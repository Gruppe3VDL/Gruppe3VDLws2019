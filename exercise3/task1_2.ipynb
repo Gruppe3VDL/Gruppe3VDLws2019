{
  "nbformat": 4,
  "nbformat_minor": 0,
  "metadata": {
    "kernelspec": {
      "name": "python3",
      "display_name": "Python 3"
    },
    "language_info": {
      "codemirror_mode": {
        "name": "ipython",
        "version": 3
      },
      "file_extension": ".py",
      "mimetype": "text/x-python",
      "name": "python",
      "nbconvert_exporter": "python",
      "pygments_lexer": "ipython3",
      "version": "3.7.5"
    },
    "colab": {
      "name": "task1_2.ipynb",
      "provenance": [],
      "collapsed_sections": [],
      "toc_visible": true,
      "include_colab_link": true
    },
    "accelerator": "GPU"
  },
  "cells": [
    {
      "cell_type": "markdown",
      "metadata": {
        "id": "view-in-github",
        "colab_type": "text"
      },
      "source": [
        "<a href=\"https://colab.research.google.com/github/Gruppe3VDL/Gruppe3VDLws2019/blob/master/exercise3/task1_2.ipynb\" target=\"_parent\"><img src=\"https://colab.research.google.com/assets/colab-badge.svg\" alt=\"Open In Colab\"/></a>"
      ]
    },
    {
      "cell_type": "markdown",
      "metadata": {
        "id": "-2meuWAELx5z",
        "colab_type": "text"
      },
      "source": [
        "# Semantic Segmentation"
      ]
    },
    {
      "cell_type": "code",
      "metadata": {
        "id": "66-DT60fqJ60",
        "colab_type": "code",
        "colab": {
          "base_uri": "https://localhost:8080/",
          "height": 34
        },
        "outputId": "b62ef97a-ffa4-4f84-b675-4de151a85298"
      },
      "source": [
        "import collections\n",
        "import datetime\n",
        "import os\n",
        "import zipfile\n",
        "import numpy as np\n",
        "import torch\n",
        "import torch.nn as nn\n",
        "import yaml\n",
        "\n",
        "from os import listdir, makedirs\n",
        "from os.path import join, splitext\n",
        "from PIL import Image\n",
        "from matplotlib import pyplot as plt\n",
        "from torch.utils.data import Dataset, DataLoader\n",
        "from torchvision.utils import make_grid\n",
        "\n",
        "# Check cuda\n",
        "torch.manual_seed(1337)\n",
        "cuda = torch.cuda.is_available()\n",
        "print('cuda:', cuda)\n",
        "if cuda:\n",
        "    torch.cuda.manual_seed(1337)"
      ],
      "execution_count": 2,
      "outputs": [
        {
          "output_type": "stream",
          "text": [
            "cuda: True\n"
          ],
          "name": "stdout"
        }
      ]
    },
    {
      "cell_type": "markdown",
      "metadata": {
        "id": "fK8dQL8kLx53",
        "colab_type": "text"
      },
      "source": [
        "## 1. Get the Dataset\n",
        "Download and extract the bags dataset\n",
        "https://drive.google.com/file/d/1P4bdP6nSUOqQLhGXvZ1z4z3hNncJFrCs"
      ]
    },
    {
      "cell_type": "code",
      "metadata": {
        "id": "ft_VJUCSWHTc",
        "colab_type": "code",
        "outputId": "99a28f92-b667-4a52-bf0e-13c761172f9d",
        "colab": {
          "base_uri": "https://localhost:8080/",
          "height": 54
        }
      },
      "source": [
        "from google.colab import drive\n",
        "drive.mount('/content/drive')"
      ],
      "execution_count": 3,
      "outputs": [
        {
          "output_type": "stream",
          "text": [
            "Drive already mounted at /content/drive; to attempt to forcibly remount, call drive.mount(\"/content/drive\", force_remount=True).\n"
          ],
          "name": "stdout"
        }
      ]
    },
    {
      "cell_type": "code",
      "metadata": {
        "id": "JgVkRldULx56",
        "colab_type": "code",
        "outputId": "ef751ed8-60c0-4a67-f918-e1bfb5d3473f",
        "colab": {
          "base_uri": "https://localhost:8080/",
          "height": 34
        }
      },
      "source": [
        "#########################################################################\n",
        "## Navigate to the exercise directory.                                 ##\n",
        "##                                                                     ##\n",
        "## IMPORTANT:                                                          ##\n",
        "## Either change the path below to the exercise folder in your drive   ##\n",
        "## or put the folder at same path in your drive (recommended).         ##\n",
        "#########################################################################\n",
        "\n",
        "%cd 'drive/My Drive/TUK/Very Deep Learning/Exercises/exercise3/'"
      ],
      "execution_count": 4,
      "outputs": [
        {
          "output_type": "stream",
          "text": [
            "/content/drive/My Drive/TUK/Very Deep Learning/Exercises/exercise3\n"
          ],
          "name": "stdout"
        }
      ]
    },
    {
      "cell_type": "code",
      "metadata": {
        "id": "OPm1i-C6Wy1H",
        "colab_type": "code",
        "outputId": "c623591d-6730-487d-efc2-01e6fb18cdc2",
        "colab": {
          "base_uri": "https://localhost:8080/",
          "height": 34
        }
      },
      "source": [
        "#########################################################################\n",
        "## Extract bags dataset.                                               ##\n",
        "#########################################################################\n",
        "\n",
        "if not os.path.exists('data/bags_data'):\n",
        "  print(\"Extracting dataset...\")\n",
        "  with zipfile.ZipFile(\"data/bags_data.zip\",\"r\") as zip_ref:\n",
        "      zip_ref.extractall(\"data/\")\n",
        "  print(\"Done.\")\n",
        "else:\n",
        "  print(\"Dataset already extracted.\")"
      ],
      "execution_count": 5,
      "outputs": [
        {
          "output_type": "stream",
          "text": [
            "Dataset already extracted.\n"
          ],
          "name": "stdout"
        }
      ]
    },
    {
      "cell_type": "markdown",
      "metadata": {
        "id": "_HUfK4ZlLx6B",
        "colab_type": "text"
      },
      "source": [
        "## 2. Read the Dataset\n",
        "Write a ```pytorch``` [Dataset](https://pytorch.org/docs/stable/data.html#torch.utils.data.Dataset) class which can iterate over the dataset. (Hint: Get inspiration from the [```pytorch``` tutorials](https://pytorch.org/tutorials/beginner/data_loading_tutorial.html))"
      ]
    },
    {
      "cell_type": "code",
      "metadata": {
        "id": "ebD8gUWTXfuM",
        "colab_type": "code",
        "outputId": "aaaad079-b714-476e-f83b-25b93536f5ff",
        "colab": {
          "base_uri": "https://localhost:8080/",
          "height": 34
        }
      },
      "source": [
        "#########################################################################\n",
        "## Define dataset paths.                                               ##\n",
        "#########################################################################\n",
        "\n",
        "root = 'data/bags_data/'\n",
        "%ls $root\n",
        "\n",
        "imags_dir = root + 'JPEGImages/'\n",
        "masks_dir = root + 'segmentation_mask/'\n",
        "imagesets = root + 'imagesets/'"
      ],
      "execution_count": 6,
      "outputs": [
        {
          "output_type": "stream",
          "text": [
            "\u001b[0m\u001b[01;34mimagesets\u001b[0m/  \u001b[01;34mJPEGImages\u001b[0m/  \u001b[01;34msegmentation_mask\u001b[0m/\n"
          ],
          "name": "stdout"
        }
      ]
    },
    {
      "cell_type": "code",
      "metadata": {
        "id": "bgbNF3I0UEAy",
        "colab_type": "code",
        "colab": {
          "base_uri": "https://localhost:8080/",
          "height": 51
        },
        "outputId": "3f92e9d4-61c6-4d21-b53f-fe0198831952"
      },
      "source": [
        "#########################################################################\n",
        "## Calculate chromatic mean of the dataset.                            ##\n",
        "#########################################################################\n",
        "\n",
        "# # Open all images and segmentation masks\n",
        "# files = [splitext(i)[0] for i in sorted(listdir(imags_dir))]\n",
        "# imags = [np.array(Image.open(join(imags_dir, splitext(i)[0] + \".jpg\"))) for i in files]\n",
        "# masks = [np.array(Image.open(join(masks_dir, splitext(i)[0] + \".png\"))) for i in files]\n",
        "\n",
        "# # Extract backgrounds by removing bags from images\n",
        "# bgrs = []\n",
        "# for i in range(len(imags)):\n",
        "#     bgr = np.copy(imags[i])\n",
        "#     idx = (masks[i] != 0)\n",
        "    \n",
        "#     bgr[idx] = 0\n",
        "#     bgrs.append(bgr)\n",
        "\n",
        "# # Find chromatic means for orginal and processed images\n",
        "# def find_mean(imgs):\n",
        "#     means = np.stack([i.mean(axis=0).mean(axis=0) for i in imgs], axis=0)\n",
        "#     return means.mean(axis=0)\n",
        "\n",
        "mean_normal = [149.51536146, 132.39143821, 126.18532193] # find_mean(imags)\n",
        "mean_masked = [101.33193905, 97.80411118, 92.44720252] # find_mean(bgrs)\n",
        "\n",
        "# Report means\n",
        "print('mean (images):', mean_normal)\n",
        "print('mean (masked):', mean_masked)"
      ],
      "execution_count": 7,
      "outputs": [
        {
          "output_type": "stream",
          "text": [
            "mean (images): [149.51536146, 132.39143821, 126.18532193]\n",
            "mean (masked): [101.33193905, 97.80411118, 92.44720252]\n"
          ],
          "name": "stdout"
        }
      ]
    },
    {
      "cell_type": "code",
      "metadata": {
        "id": "kSc-MkDgLx6D",
        "colab_type": "code",
        "colab": {
          "base_uri": "https://localhost:8080/",
          "height": 119
        },
        "outputId": "a364a572-8979-4adb-892b-7d2ec7898427"
      },
      "source": [
        "#########################################################################\n",
        "## Define a custom dataset class which can be used with PyTorch data   ##\n",
        "## loaders.                                                            ##\n",
        "#########################################################################\n",
        "\n",
        "class BagsDataset(Dataset):\n",
        "    \"\"\"Bags dataset.\"\"\"\n",
        "    def __init__(self, root, mean, split='train', transform=False):\n",
        "        self.root = root\n",
        "        self.mean = np.array(mean)\n",
        "        self.split = split\n",
        "        self.class_names = np.array(['background', 'bag'])\n",
        "        self._transform = transform\n",
        "\n",
        "        self.files = collections.defaultdict(list)\n",
        "        for split in ['train', 'val']:\n",
        "            ids_file = join(root, 'imagesets/%s.txt' % split)\n",
        "            for idx in open(ids_file):\n",
        "                idx = idx.strip()\n",
        "                self.files[split].append({\n",
        "                    'image': join(root, 'JPEGImages/%s.jpg' % idx),\n",
        "                    'label': join(root, 'segmentation_mask/%s.png' % idx),\n",
        "                })\n",
        "\n",
        "    def __len__(self):\n",
        "        return len(self.files[self.split])\n",
        "\n",
        "    def __getitem__(self, index):\n",
        "        data_file = self.files[self.split][index]\n",
        "\n",
        "        # Load image\n",
        "        image = Image.open(data_file['image'])\n",
        "        image = np.array(image, dtype=np.uint8)\n",
        "\n",
        "        # Load label\n",
        "        label = Image.open(data_file['label'])\n",
        "        label = np.array(label, dtype=np.int32)\n",
        "        label[label == 255] = -1\n",
        "\n",
        "        if self._transform:\n",
        "            return self.transform(image, label)\n",
        "        else:\n",
        "            return image, label\n",
        "\n",
        "    def transform(self, image, label):\n",
        "        # Transform image\n",
        "        image = image.astype(np.float64)        # uint8 -> float64\n",
        "        image -= self.mean                      # Remove mean\n",
        "        image = np.transpose(image, (2, 0, 1))  # (W, H, C) -> (C, W, H)\n",
        "        image = torch.from_numpy(image).float() # To tensor\n",
        "\n",
        "        # Transform label\n",
        "        label = torch.from_numpy(label).long()  # To tensor\n",
        "\n",
        "        return image, label\n",
        "\n",
        "    def untransform(self, image, label):\n",
        "        # Restore image\n",
        "        image = image.numpy()                   # To numpy array\n",
        "        image = np.transpose(image, (1, 2, 0))  # (C, W, H) -> (W, H, C)\n",
        "        image += self.mean                      # Restore mean\n",
        "        image = image.astype(np.uint8)          # float64 -> uint8\n",
        "\n",
        "        # Restore label\n",
        "        label = label.numpy()                   # To numpy array\n",
        "\n",
        "        return image, label\n",
        "\n",
        "# Load datasets\n",
        "print(\"Loading training set...\")\n",
        "traindata = BagsDataset(root, mean_normal, split='train', transform=True)\n",
        "print(len(traindata), \"images in train set.\\n\")\n",
        "\n",
        "print(\"Loading validation set...\")\n",
        "valdata = BagsDataset(root, mean_normal, split='val', transform=True)\n",
        "print(len(valdata), \"images in validation set.\\n\")"
      ],
      "execution_count": 34,
      "outputs": [
        {
          "output_type": "stream",
          "text": [
            "Loading training set...\n",
            "427 images in train set.\n",
            "\n",
            "Loading validation set...\n",
            "107 images in validation set.\n",
            "\n"
          ],
          "name": "stdout"
        }
      ]
    },
    {
      "cell_type": "code",
      "metadata": {
        "id": "B1LTwz4Uwm6F",
        "colab_type": "code",
        "colab": {
          "base_uri": "https://localhost:8080/",
          "height": 371
        },
        "outputId": "405621c7-bdec-4fbe-ee27-1875b775c041"
      },
      "source": [
        "#########################################################################\n",
        "## Create and validate dataloaders.                                    ##\n",
        "#########################################################################\n",
        "\n",
        "# Define training and validation dataloaders.\n",
        "print(\"Creating data loaders...\")\n",
        "kwargs = {'num_workers': 4, 'pin_memory': True} if cuda else {}\n",
        "train_loader = DataLoader(traindata, batch_size=1, shuffle=True, **kwargs)\n",
        "val_loader = DataLoader(valdata, batch_size=1, shuffle=False, **kwargs)\n",
        "\n",
        "# Show some of the loaded images to verify dataloaders.\n",
        "def convert_img(im, mask=False):\n",
        "  print(im.shape)\n",
        "  im = im.numpy()\n",
        "  im = np.transpose(im, (1, 2, 0))\n",
        "  if mask:\n",
        "    im = im / np.max(im)\n",
        "\n",
        "  return im\n",
        "\n",
        "print(\"Show sample batch from created datasets...\")\n",
        "sample = iter(train_loader).next()\n",
        "\n",
        "ax = plt.subplot(2, 1, 1)\n",
        "plt.imshow(convert_img(make_grid(sample[0])))\n",
        "\n",
        "ax = plt.subplot(2, 1, 2)\n",
        "plt.imshow(convert_img(make_grid(sample[1]), mask=True))"
      ],
      "execution_count": 35,
      "outputs": [
        {
          "output_type": "stream",
          "text": [
            "Creating data loaders...\n",
            "Show sample batch from created datasets...\n"
          ],
          "name": "stdout"
        },
        {
          "output_type": "stream",
          "text": [
            "Clipping input data to the valid range for imshow with RGB data ([0..1] for floats or [0..255] for integers).\n"
          ],
          "name": "stderr"
        },
        {
          "output_type": "stream",
          "text": [
            "torch.Size([3, 625, 1024])\n",
            "torch.Size([3, 625, 1024])\n"
          ],
          "name": "stdout"
        },
        {
          "output_type": "execute_result",
          "data": {
            "text/plain": [
              "<matplotlib.image.AxesImage at 0x7fde7b6cc518>"
            ]
          },
          "metadata": {
            "tags": []
          },
          "execution_count": 35
        },
        {
          "output_type": "display_data",
          "data": {
            "image/png": "[encoded data removed]",
            "text/plain": [
              "<Figure size 432x288 with 2 Axes>"
            ]
          },
          "metadata": {
            "tags": []
          }
        }
      ]
    },
    {
      "cell_type": "markdown",
      "metadata": {
        "id": "zsLXgrl1Lx6K",
        "colab_type": "text"
      },
      "source": [
        "## 3. Train a FCN for Segmentation\n",
        "Train a fully-convolutional network on the training dataset.\n",
        "Hint: You can either define your own FCN or use an already implemented model (e.g. https://github.com/wkentaro/pytorch-fcn)"
      ]
    },
    {
      "cell_type": "code",
      "metadata": {
        "id": "LD3CijmrLx6L",
        "colab_type": "code",
        "colab": {
          "base_uri": "https://localhost:8080/",
          "height": 989
        },
        "outputId": "87d7fc22-c4b2-432d-a2f9-31b0c3b3bf8d"
      },
      "source": [
        "#########################################################################\n",
        "## Install PyTorch-FCN.                                                ##\n",
        "#########################################################################\n",
        "\n",
        "!pip install torchfcn\n",
        "import torchfcn"
      ],
      "execution_count": 28,
      "outputs": [
        {
          "output_type": "stream",
          "text": [
            "Collecting torchfcn\n",
            "\u001b[?25l  Downloading https://files.pythonhosted.org/packages/2e/c8/83aae280241a6e2ba537a8a5f21b4bb15f30060cd02b7bd56ccde51f35fa/torchfcn-1.9.6.tar.gz (67kB)\n",
            "\r\u001b[K     |████▉                           | 10kB 30.5MB/s eta 0:00:01\r\u001b[K     |█████████▊                      | 20kB 3.1MB/s eta 0:00:01\r\u001b[K     |██████████████▋                 | 30kB 4.5MB/s eta 0:00:01\r\u001b[K     |███████████████████▌            | 40kB 3.0MB/s eta 0:00:01\r\u001b[K     |████████████████████████▍       | 51kB 3.6MB/s eta 0:00:01\r\u001b[K     |█████████████████████████████▎  | 61kB 4.3MB/s eta 0:00:01\r\u001b[K     |████████████████████████████████| 71kB 3.7MB/s \n",
            "\u001b[?25hCollecting fcn>=6.1.5\n",
            "  Downloading https://files.pythonhosted.org/packages/e4/d5/ccad25bc5222ce862e8be54293a46d520086c7996de724c3ce9e8fdca4b4/fcn-6.4.17.tar.gz\n",
            "Requirement already satisfied: numpy in /usr/local/lib/python3.6/dist-packages (from torchfcn) (1.17.4)\n",
            "Requirement already satisfied: Pillow in /usr/local/lib/python3.6/dist-packages (from torchfcn) (4.3.0)\n",
            "Requirement already satisfied: scipy in /usr/local/lib/python3.6/dist-packages (from torchfcn) (1.3.3)\n",
            "Requirement already satisfied: torch>=0.2.0 in /usr/local/lib/python3.6/dist-packages (from torchfcn) (1.3.1)\n",
            "Requirement already satisfied: torchvision>=0.1.8 in /usr/local/lib/python3.6/dist-packages (from torchfcn) (0.4.2)\n",
            "Requirement already satisfied: tqdm in /usr/local/lib/python3.6/dist-packages (from torchfcn) (4.28.1)\n",
            "Requirement already satisfied: chainer>=2.0.0 in /usr/local/lib/python3.6/dist-packages (from fcn>=6.1.5->torchfcn) (6.5.0)\n",
            "Collecting chainercv\n",
            "\u001b[?25l  Downloading https://files.pythonhosted.org/packages/e8/1c/1f267ccf5ebdf1f63f1812fa0d2d0e6e35f0d08f63d2dcdb1351b0e77d85/chainercv-0.13.1.tar.gz (260kB)\n",
            "\u001b[K     |████████████████████████████████| 266kB 13.6MB/s \n",
            "\u001b[?25hRequirement already satisfied: gdown in /usr/local/lib/python3.6/dist-packages (from fcn>=6.1.5->torchfcn) (3.6.4)\n",
            "Requirement already satisfied: matplotlib in /usr/local/lib/python3.6/dist-packages (from fcn>=6.1.5->torchfcn) (3.1.2)\n",
            "Requirement already satisfied: pandas in /usr/local/lib/python3.6/dist-packages (from fcn>=6.1.5->torchfcn) (0.25.3)\n",
            "Requirement already satisfied: PyYAML in /usr/local/lib/python3.6/dist-packages (from fcn>=6.1.5->torchfcn) (3.13)\n",
            "Requirement already satisfied: scikit-learn in /usr/local/lib/python3.6/dist-packages (from fcn>=6.1.5->torchfcn) (0.21.3)\n",
            "Requirement already satisfied: scikit-image in /usr/local/lib/python3.6/dist-packages (from fcn>=6.1.5->torchfcn) (0.15.0)\n",
            "Requirement already satisfied: olefile in /usr/local/lib/python3.6/dist-packages (from Pillow->torchfcn) (0.46)\n",
            "Requirement already satisfied: six in /usr/local/lib/python3.6/dist-packages (from torchvision>=0.1.8->torchfcn) (1.12.0)\n",
            "Requirement already satisfied: setuptools in /usr/local/lib/python3.6/dist-packages (from chainer>=2.0.0->fcn>=6.1.5->torchfcn) (42.0.2)\n",
            "Requirement already satisfied: protobuf>=3.0.0 in /usr/local/lib/python3.6/dist-packages (from chainer>=2.0.0->fcn>=6.1.5->torchfcn) (3.10.0)\n",
            "Requirement already satisfied: filelock in /usr/local/lib/python3.6/dist-packages (from chainer>=2.0.0->fcn>=6.1.5->torchfcn) (3.0.12)\n",
            "Requirement already satisfied: typing-extensions<=3.6.6 in /usr/local/lib/python3.6/dist-packages (from chainer>=2.0.0->fcn>=6.1.5->torchfcn) (3.6.6)\n",
            "Requirement already satisfied: typing<=3.6.6 in /usr/local/lib/python3.6/dist-packages (from chainer>=2.0.0->fcn>=6.1.5->torchfcn) (3.6.6)\n",
            "Requirement already satisfied: requests in /usr/local/lib/python3.6/dist-packages (from gdown->fcn>=6.1.5->torchfcn) (2.21.0)\n",
            "Requirement already satisfied: python-dateutil>=2.1 in /usr/local/lib/python3.6/dist-packages (from matplotlib->fcn>=6.1.5->torchfcn) (2.6.1)\n",
            "Requirement already satisfied: kiwisolver>=1.0.1 in /usr/local/lib/python3.6/dist-packages (from matplotlib->fcn>=6.1.5->torchfcn) (1.1.0)\n",
            "Requirement already satisfied: pyparsing!=2.0.4,!=2.1.2,!=2.1.6,>=2.0.1 in /usr/local/lib/python3.6/dist-packages (from matplotlib->fcn>=6.1.5->torchfcn) (2.4.5)\n",
            "Requirement already satisfied: cycler>=0.10 in /usr/local/lib/python3.6/dist-packages (from matplotlib->fcn>=6.1.5->torchfcn) (0.10.0)\n",
            "Requirement already satisfied: pytz>=2017.2 in /usr/local/lib/python3.6/dist-packages (from pandas->fcn>=6.1.5->torchfcn) (2018.9)\n",
            "Requirement already satisfied: joblib>=0.11 in /usr/local/lib/python3.6/dist-packages (from scikit-learn->fcn>=6.1.5->torchfcn) (0.14.1)\n",
            "Requirement already satisfied: imageio>=2.0.1 in /usr/local/lib/python3.6/dist-packages (from scikit-image->fcn>=6.1.5->torchfcn) (2.4.1)\n",
            "Requirement already satisfied: PyWavelets>=0.4.0 in /usr/local/lib/python3.6/dist-packages (from scikit-image->fcn>=6.1.5->torchfcn) (1.1.1)\n",
            "Requirement already satisfied: networkx>=2.0 in /usr/local/lib/python3.6/dist-packages (from scikit-image->fcn>=6.1.5->torchfcn) (2.4)\n",
            "Requirement already satisfied: certifi>=2017.4.17 in /usr/local/lib/python3.6/dist-packages (from requests->gdown->fcn>=6.1.5->torchfcn) (2019.11.28)\n",
            "Requirement already satisfied: urllib3<1.25,>=1.21.1 in /usr/local/lib/python3.6/dist-packages (from requests->gdown->fcn>=6.1.5->torchfcn) (1.24.3)\n",
            "Requirement already satisfied: chardet<3.1.0,>=3.0.2 in /usr/local/lib/python3.6/dist-packages (from requests->gdown->fcn>=6.1.5->torchfcn) (3.0.4)\n",
            "Requirement already satisfied: idna<2.9,>=2.5 in /usr/local/lib/python3.6/dist-packages (from requests->gdown->fcn>=6.1.5->torchfcn) (2.8)\n",
            "Requirement already satisfied: decorator>=4.3.0 in /usr/local/lib/python3.6/dist-packages (from networkx>=2.0->scikit-image->fcn>=6.1.5->torchfcn) (4.4.1)\n",
            "Building wheels for collected packages: torchfcn, fcn, chainercv\n",
            "  Building wheel for torchfcn (setup.py) ... \u001b[?25l\u001b[?25hdone\n",
            "  Created wheel for torchfcn: filename=torchfcn-1.9.6-cp36-none-any.whl size=135109 sha256=62ac158ee1f0f0142581662bdc2e92caa060ef7c908b24babc10cabb4ef7dbd0\n",
            "  Stored in directory: /root/.cache/pip/wheels/37/f3/2a/046ddc2b143f655eab64927f2c612fab026fb663c2800f627a\n",
            "  Building wheel for fcn (setup.py) ... \u001b[?25l\u001b[?25hdone\n",
            "  Created wheel for fcn: filename=fcn-6.4.17-cp36-none-any.whl size=25776 sha256=9803ce8628c53752a19b7a3e8918b4db4b2ffde8b38e7121b45333de48c3b035\n",
            "  Stored in directory: /root/.cache/pip/wheels/09/fe/80/29c484aa1bd0003ed779d5eba6201f62caf3ff30be26459e25\n",
            "  Building wheel for chainercv (setup.py) ... \u001b[?25l\u001b[?25hdone\n",
            "  Created wheel for chainercv: filename=chainercv-0.13.1-cp36-cp36m-linux_x86_64.whl size=537357 sha256=eb04708b20d82c41f52065acc45a7cb4d4b8bade7952665fe98a1c003389ed6c\n",
            "  Stored in directory: /root/.cache/pip/wheels/ea/10/01/e221beaa4b3d8341aa819a39ab8d4677457c79c81f521f3a94\n",
            "Successfully built torchfcn fcn chainercv\n",
            "Installing collected packages: chainercv, fcn, torchfcn\n",
            "Successfully installed chainercv-0.13.1 fcn-6.4.17 torchfcn-1.9.6\n"
          ],
          "name": "stdout"
        }
      ]
    },
    {
      "cell_type": "code",
      "metadata": {
        "id": "cHXtFsQkw0D6",
        "colab_type": "code",
        "colab": {
          "base_uri": "https://localhost:8080/",
          "height": 1000
        },
        "outputId": "2bc866e3-c585-4527-a94e-99bc3ea78b34"
      },
      "source": [
        "#########################################################################\n",
        "## Create and train network.                                           ##\n",
        "#########################################################################\n",
        "\n",
        "# Define training parameters\n",
        "def get_parameters(model, bias=False):\n",
        "    modules_skipped = (\n",
        "        nn.ReLU,\n",
        "        nn.MaxPool2d,\n",
        "        nn.Dropout2d,\n",
        "        nn.Sequential,\n",
        "        torchfcn.models.FCN32s,\n",
        "        torchfcn.models.FCN16s,\n",
        "        torchfcn.models.FCN8s,\n",
        "    )\n",
        "\n",
        "    for m in model.modules():\n",
        "        if isinstance(m, nn.Conv2d):\n",
        "            if bias:\n",
        "                yield m.bias\n",
        "            else:\n",
        "                yield m.weight\n",
        "        elif isinstance(m, nn.ConvTranspose2d):\n",
        "            # weight is frozen because it is just a bilinear upsampling\n",
        "            if bias:\n",
        "                assert m.bias is None\n",
        "        elif isinstance(m, modules_skipped):\n",
        "            continue\n",
        "        else:\n",
        "            raise ValueError('Unexpected module: %s' % str(m))\n",
        "\n",
        "# Create model\n",
        "net = torchfcn.models.FCN8s(n_class=2)\n",
        "if cuda:\n",
        "  net = net.cuda()\n",
        "\n",
        "# Define an optimizer\n",
        "optim = torch.optim.SGD([{'params': get_parameters(net, bias=False)},\n",
        "                         {'params': get_parameters(net, bias=True), \n",
        "                          'lr': 1.0e-14 * 2, 'weight_decay': 0}], \n",
        "                        lr=1.0e-14, momentum=0.99, weight_decay=0.0005)\n",
        "\n",
        "# Create the trainer\n",
        "trainer = torchfcn.Trainer(\n",
        "    cuda=cuda,\n",
        "    model=net,\n",
        "    optimizer=optim,\n",
        "    train_loader=train_loader,\n",
        "    val_loader=val_loader,\n",
        "    out=join('.', 'logs.txt'),\n",
        "    max_iter=100000,\n",
        "    interval_validate=4000,\n",
        ")\n",
        "\n",
        "# Start training\n",
        "trainer.epoch = 0\n",
        "trainer.iteration = 0\n",
        "trainer.train()"
      ],
      "execution_count": 36,
      "outputs": [
        {
          "output_type": "stream",
          "text": [
            "Train:   0%|                                            | 0/235 [00:00<?, ?it/s]\n",
            "Train epoch=0:   0%|                                    | 0/427 [00:00<?, ?it/s]\u001b[A\n",
            "\n",
            "Valid iteration=0:   0%|                                | 0/107 [00:00<?, ?it/s]\u001b[A\u001b[A\n",
            "\n",
            "Valid iteration=0:   1%|▏                       | 1/107 [00:02<04:36,  2.61s/it]\u001b[A\u001b[A\n",
            "\n",
            "Valid iteration=0:   2%|▍                       | 2/107 [00:04<03:56,  2.25s/it]\u001b[A\u001b[A\n",
            "\n",
            "Valid iteration=0:   3%|▋                       | 3/107 [00:05<03:25,  1.97s/it]\u001b[A\u001b[A\n",
            "\n",
            "Valid iteration=0:   4%|▉                       | 4/107 [00:06<03:06,  1.81s/it]\u001b[A\u001b[A\n",
            "\n",
            "Valid iteration=0:   5%|█                       | 5/107 [00:08<02:53,  1.70s/it]\u001b[A\u001b[A\n",
            "\n",
            "Valid iteration=0:   6%|█▎                      | 6/107 [00:09<02:43,  1.62s/it]\u001b[A\u001b[A\n",
            "\n",
            "Valid iteration=0:   7%|█▌                      | 7/107 [00:11<02:36,  1.56s/it]\u001b[A\u001b[A\n",
            "\n",
            "Valid iteration=0:   7%|█▊                      | 8/107 [00:11<02:15,  1.36s/it]\u001b[A\u001b[A\n",
            "\n",
            "Valid iteration=0:   8%|██                      | 9/107 [00:13<02:15,  1.39s/it]\u001b[A\u001b[A\n",
            "\n",
            "Valid iteration=0:   9%|██▏                    | 10/107 [00:13<01:38,  1.02s/it]\u001b[A\u001b[A\n",
            "\n",
            "Valid iteration=0:  10%|██▎                    | 11/107 [00:13<01:13,  1.31it/s]\u001b[A\u001b[A\n",
            "\n",
            "Valid iteration=0:  11%|██▌                    | 12/107 [00:13<00:55,  1.73it/s]\u001b[A\u001b[A\n",
            "\n",
            "Valid iteration=0:  13%|███                    | 14/107 [00:14<00:41,  2.26it/s]\u001b[A\u001b[A\n",
            "\n",
            "Valid iteration=0:  14%|███▏                   | 15/107 [00:14<00:34,  2.66it/s]\u001b[A\u001b[A\n",
            "\n",
            "Valid iteration=0:  15%|███▍                   | 16/107 [00:14<00:28,  3.22it/s]\u001b[A\u001b[A\n",
            "\n",
            "Valid iteration=0:  17%|███▊                   | 18/107 [00:14<00:22,  4.02it/s]\u001b[A\u001b[A\n",
            "\n",
            "Valid iteration=0:  18%|████                   | 19/107 [00:14<00:19,  4.43it/s]\u001b[A\u001b[A\n",
            "\n",
            "Valid iteration=0:  19%|████▎                  | 20/107 [00:15<00:17,  4.85it/s]\u001b[A\u001b[A\n",
            "\n",
            "Valid iteration=0:  20%|████▌                  | 21/107 [00:15<00:17,  4.80it/s]\u001b[A\u001b[A\n",
            "\n",
            "Valid iteration=0:  21%|████▋                  | 22/107 [00:15<00:16,  5.17it/s]\u001b[A\u001b[A\n",
            "\n",
            "Valid iteration=0:  21%|████▉                  | 23/107 [00:15<00:18,  4.53it/s]\u001b[A\u001b[A\n",
            "\n",
            "Valid iteration=0:  22%|█████▏                 | 24/107 [00:15<00:15,  5.20it/s]\u001b[A\u001b[A\n",
            "\n",
            "Valid iteration=0:  23%|█████▎                 | 25/107 [00:16<00:15,  5.44it/s]\u001b[A\u001b[A\n",
            "\n",
            "Valid iteration=0:  24%|█████▌                 | 26/107 [00:16<00:14,  5.49it/s]\u001b[A\u001b[A\n",
            "\n",
            "Valid iteration=0:  25%|█████▊                 | 27/107 [00:16<00:25,  3.12it/s]\u001b[A\u001b[A\n",
            "\n",
            "Valid iteration=0:  26%|██████                 | 28/107 [00:17<00:21,  3.69it/s]\u001b[A\u001b[A\n",
            "\n",
            "Valid iteration=0:  27%|██████▏                | 29/107 [00:18<00:59,  1.30it/s]\u001b[A\u001b[A\n",
            "\n",
            "Valid iteration=0:  29%|██████▋                | 31/107 [00:19<00:43,  1.75it/s]\u001b[A\u001b[A\n",
            "\n",
            "Valid iteration=0:  30%|██████▉                | 32/107 [00:19<00:33,  2.24it/s]\u001b[A\u001b[A\n",
            "\n",
            "Valid iteration=0:  31%|███████                | 33/107 [00:19<00:26,  2.79it/s]\u001b[A\u001b[A\n",
            "\n",
            "Valid iteration=0:  32%|███████▎               | 34/107 [00:19<00:21,  3.35it/s]\u001b[A\u001b[A\n",
            "\n",
            "Valid iteration=0:  33%|███████▌               | 35/107 [00:19<00:18,  3.92it/s]\u001b[A\u001b[A\n",
            "\n",
            "Valid iteration=0:  34%|███████▋               | 36/107 [00:19<00:15,  4.44it/s]\u001b[A\u001b[A\n",
            "\n",
            "Valid iteration=0:  35%|███████▉               | 37/107 [00:20<00:14,  4.88it/s]\u001b[A\u001b[A\n",
            "\n",
            "Valid iteration=0:  36%|████████▏              | 38/107 [00:20<00:13,  5.15it/s]\u001b[A\u001b[A\n",
            "\n",
            "Valid iteration=0:  36%|████████▍              | 39/107 [00:20<00:12,  5.51it/s]\u001b[A\u001b[A\n",
            "\n",
            "Valid iteration=0:  37%|████████▌              | 40/107 [00:20<00:12,  5.26it/s]\u001b[A\u001b[A\n",
            "\n",
            "Valid iteration=0:  38%|████████▊              | 41/107 [00:20<00:11,  5.55it/s]\u001b[A\u001b[A\n",
            "\n",
            "Valid iteration=0:  39%|█████████              | 42/107 [00:20<00:11,  5.76it/s]\u001b[A\u001b[A\n",
            "\n",
            "Valid iteration=0:  40%|█████████▏             | 43/107 [00:21<00:10,  5.92it/s]\u001b[A\u001b[A\n",
            "\n",
            "Valid iteration=0:  41%|█████████▍             | 44/107 [00:21<00:10,  6.08it/s]\u001b[A\u001b[A\n",
            "\n",
            "Valid iteration=0:  42%|█████████▋             | 45/107 [00:21<00:09,  6.21it/s]\u001b[A\u001b[A\n",
            "\n",
            "Valid iteration=0:  43%|█████████▉             | 46/107 [00:21<00:09,  6.13it/s]\u001b[A\u001b[A\n",
            "\n",
            "Valid iteration=0:  44%|██████████             | 47/107 [00:21<00:10,  5.70it/s]\u001b[A\u001b[A\n",
            "\n",
            "Valid iteration=0:  45%|██████████▎            | 48/107 [00:21<00:09,  5.93it/s]\u001b[A\u001b[A\n",
            "\n",
            "Valid iteration=0:  46%|██████████▌            | 49/107 [00:22<00:11,  5.02it/s]\u001b[A\u001b[A\n",
            "\n",
            "Valid iteration=0:  47%|██████████▋            | 50/107 [00:22<00:10,  5.39it/s]\u001b[A\u001b[A\n",
            "\n",
            "Valid iteration=0:  48%|██████████▉            | 51/107 [00:22<00:11,  4.69it/s]\u001b[A\u001b[A\n",
            "\n",
            "Valid iteration=0:  49%|███████████▏           | 52/107 [00:22<00:10,  5.12it/s]\u001b[A\u001b[A\n",
            "\n",
            "Valid iteration=0:  50%|███████████▍           | 53/107 [00:23<00:11,  4.67it/s]\u001b[A\u001b[A\n",
            "\n",
            "Valid iteration=0:  51%|███████████▊           | 55/107 [00:23<00:09,  5.58it/s]\u001b[A\u001b[A\n",
            "\n",
            "Valid iteration=0:  53%|████████████▎          | 57/107 [00:23<00:07,  6.37it/s]\u001b[A\u001b[A\n",
            "\n",
            "Valid iteration=0:  54%|████████████▍          | 58/107 [00:23<00:07,  6.36it/s]\u001b[A\u001b[A\n",
            "\n",
            "Valid iteration=0:  55%|████████████▋          | 59/107 [00:23<00:07,  6.07it/s]\u001b[A\u001b[A\n",
            "\n",
            "Valid iteration=0:  56%|████████████▉          | 60/107 [00:23<00:07,  6.14it/s]\u001b[A\u001b[A\n",
            "\n",
            "Valid iteration=0:  57%|█████████████          | 61/107 [00:24<00:07,  6.16it/s]\u001b[A\u001b[A\n",
            "\n",
            "Valid iteration=0:  58%|█████████████▎         | 62/107 [00:24<00:07,  6.14it/s]\u001b[A\u001b[A\n",
            "\n",
            "Valid iteration=0:  59%|█████████████▌         | 63/107 [00:24<00:07,  6.13it/s]\u001b[A\u001b[A\n",
            "\n",
            "Valid iteration=0:  60%|█████████████▊         | 64/107 [00:24<00:06,  6.18it/s]\u001b[A\u001b[A\n",
            "\n",
            "Valid iteration=0:  62%|██████████████▏        | 66/107 [00:24<00:05,  6.86it/s]\u001b[A\u001b[A\n",
            "\n",
            "Valid iteration=0:  63%|██████████████▍        | 67/107 [00:24<00:05,  6.69it/s]\u001b[A\u001b[A\n",
            "\n",
            "Valid iteration=0:  64%|██████████████▌        | 68/107 [00:25<00:06,  6.50it/s]\u001b[A\u001b[A\n",
            "\n",
            "Valid iteration=0:  64%|██████████████▊        | 69/107 [00:25<00:05,  6.48it/s]\u001b[A\u001b[A\n",
            "\n",
            "Valid iteration=0:  65%|███████████████        | 70/107 [00:25<00:05,  6.43it/s]\u001b[A\u001b[A\n",
            "\n",
            "Valid iteration=0:  66%|███████████████▎       | 71/107 [00:25<00:06,  5.58it/s]\u001b[A\u001b[A\n",
            "\n",
            "Valid iteration=0:  67%|███████████████▍       | 72/107 [00:25<00:06,  5.77it/s]\u001b[A\u001b[A\n",
            "\n",
            "Valid iteration=0:  68%|███████████████▋       | 73/107 [00:26<00:05,  5.87it/s]\u001b[A\u001b[A\n",
            "\n",
            "Valid iteration=0:  69%|███████████████▉       | 74/107 [00:26<00:05,  5.95it/s]\u001b[A\u001b[A\n",
            "\n",
            "Valid iteration=0:  70%|████████████████       | 75/107 [00:26<00:05,  5.37it/s]\u001b[A\u001b[A\n",
            "\n",
            "Valid iteration=0:  71%|████████████████▎      | 76/107 [00:26<00:07,  4.03it/s]\u001b[A\u001b[A\n",
            "\n",
            "Valid iteration=0:  72%|████████████████▌      | 77/107 [00:26<00:06,  4.88it/s]\u001b[A\u001b[A\n",
            "\n",
            "Valid iteration=0:  73%|████████████████▊      | 78/107 [00:27<00:05,  5.38it/s]\u001b[A\u001b[A\n",
            "\n",
            "Valid iteration=0:  74%|████████████████▉      | 79/107 [00:27<00:04,  5.67it/s]\u001b[A\u001b[A\n",
            "\n",
            "Valid iteration=0:  75%|█████████████████▏     | 80/107 [00:27<00:06,  4.00it/s]\u001b[A\u001b[A\n",
            "\n",
            "Valid iteration=0:  76%|█████████████████▍     | 81/107 [00:27<00:05,  4.51it/s]\u001b[A\u001b[A\n",
            "\n",
            "Valid iteration=0:  77%|█████████████████▋     | 82/107 [00:27<00:05,  4.96it/s]\u001b[A\u001b[A\n",
            "\n",
            "Valid iteration=0:  78%|█████████████████▊     | 83/107 [00:28<00:07,  3.22it/s]\u001b[A\u001b[A\n",
            "\n",
            "Valid iteration=0:  79%|██████████████████▎    | 85/107 [00:28<00:05,  3.93it/s]\u001b[A\u001b[A\n",
            "\n",
            "Valid iteration=0:  80%|██████████████████▍    | 86/107 [00:28<00:04,  4.35it/s]\u001b[A\u001b[A\n",
            "\n",
            "Valid iteration=0:  82%|██████████████████▉    | 88/107 [00:29<00:03,  5.08it/s]\u001b[A\u001b[A\n",
            "\n",
            "Valid iteration=0:  83%|███████████████████▏   | 89/107 [00:29<00:03,  5.34it/s]\u001b[A\u001b[A\n",
            "\n",
            "Valid iteration=0:  84%|███████████████████▎   | 90/107 [00:29<00:03,  4.61it/s]\u001b[A\u001b[A\n",
            "\n",
            "Valid iteration=0:  85%|███████████████████▌   | 91/107 [00:29<00:03,  4.99it/s]\u001b[A\u001b[A\n",
            "\n",
            "Valid iteration=0:  86%|███████████████████▊   | 92/107 [00:29<00:02,  5.29it/s]\u001b[A\u001b[A\n",
            "\n",
            "Valid iteration=0:  87%|███████████████████▉   | 93/107 [00:30<00:02,  5.94it/s]\u001b[A\u001b[A\n",
            "\n",
            "Valid iteration=0:  88%|████████████████████▏  | 94/107 [00:30<00:02,  6.02it/s]\u001b[A\u001b[A\n",
            "\n",
            "Valid iteration=0:  90%|████████████████████▋  | 96/107 [00:30<00:01,  5.53it/s]\u001b[A\u001b[A\n",
            "\n",
            "Valid iteration=0:  91%|████████████████████▊  | 97/107 [00:30<00:01,  5.74it/s]\u001b[A\u001b[A\n",
            "\n",
            "Valid iteration=0:  93%|█████████████████████▎ | 99/107 [00:30<00:01,  6.64it/s]\u001b[A\u001b[A\n",
            "\n",
            "Valid iteration=0:  93%|████████████████████▌ | 100/107 [00:31<00:01,  6.61it/s]\u001b[A\u001b[A\n",
            "\n",
            "Valid iteration=0:  94%|████████████████████▊ | 101/107 [00:31<00:00,  6.54it/s]\u001b[A\u001b[A\n",
            "\n",
            "Valid iteration=0:  95%|████████████████████▉ | 102/107 [00:31<00:00,  6.49it/s]\u001b[A\u001b[A\n",
            "\n",
            "Valid iteration=0:  96%|█████████████████████▏| 103/107 [00:31<00:00,  6.44it/s]\u001b[A\u001b[A\n",
            "\n",
            "Valid iteration=0:  97%|█████████████████████▍| 104/107 [00:31<00:00,  5.79it/s]\u001b[A\u001b[A\n",
            "\n",
            "Valid iteration=0:  98%|█████████████████████▌| 105/107 [00:31<00:00,  5.99it/s]\u001b[A\u001b[A\n",
            "\n",
            "Valid iteration=0:  99%|█████████████████████▊| 106/107 [00:32<00:00,  5.94it/s]\u001b[A\u001b[A\n",
            "\n",
            "Valid iteration=0: 100%|██████████████████████| 107/107 [00:32<00:00,  6.04it/s]\u001b[A\u001b[A\n",
            "\n",
            "                                                                                \u001b[A\u001b[A\n",
            "Train epoch=0:   0%|                          | 1/427 [00:43<5:08:58, 43.52s/it]\u001b[A\n",
            "Train epoch=0:   0%|                          | 2/427 [00:43<3:36:35, 30.58s/it]\u001b[A\n",
            "Train epoch=0:   1%|▏                         | 3/427 [00:44<2:32:03, 21.52s/it]\u001b[A\n",
            "Train epoch=0:   1%|▏                         | 4/427 [00:44<1:46:59, 15.18s/it]\u001b[A\n",
            "Train epoch=0:   1%|▎                         | 5/427 [00:45<1:15:30, 10.74s/it]\u001b[A\n",
            "Train epoch=0:   1%|▍                           | 6/427 [00:45<53:32,  7.63s/it]\u001b[A\n",
            "Train epoch=0:   2%|▍                           | 7/427 [00:45<38:15,  5.47s/it]\u001b[A\n",
            "Train epoch=0:   2%|▌                           | 8/427 [00:46<28:38,  4.10s/it]\u001b[A\n",
            "Train epoch=0:   2%|▌                           | 9/427 [00:47<20:47,  2.98s/it]\u001b[A\n",
            "Train epoch=0:   2%|▋                          | 10/427 [00:47<15:19,  2.20s/it]\u001b[A\n",
            "Train epoch=0:   3%|▋                          | 11/427 [00:47<11:30,  1.66s/it]\u001b[A\n",
            "Train epoch=0:   3%|▊                          | 12/427 [00:48<10:02,  1.45s/it]\u001b[A\n",
            "Train epoch=0:   3%|▊                          | 13/427 [00:49<07:48,  1.13s/it]\u001b[A\n",
            "Train epoch=0:   3%|▉                          | 14/427 [00:49<05:47,  1.19it/s]\u001b[A\n",
            "Train epoch=0:   4%|▉                          | 15/427 [00:49<04:51,  1.41it/s]\u001b[A\n",
            "Train epoch=0:   4%|█                          | 16/427 [00:50<04:11,  1.64it/s]\u001b[A\n",
            "Train epoch=0:   4%|█                          | 17/427 [00:50<03:42,  1.84it/s]\u001b[A\n",
            "Train epoch=0:   4%|█▏                         | 18/427 [00:50<03:25,  1.99it/s]\u001b[A\n",
            "Train epoch=0:   4%|█▏                         | 19/427 [00:51<03:10,  2.14it/s]\u001b[A\n",
            "Train epoch=0:   5%|█▎                         | 20/427 [00:51<02:59,  2.27it/s]\u001b[A\n",
            "Train epoch=0:   5%|█▎                         | 21/427 [00:52<02:51,  2.37it/s]\u001b[A\n",
            "Train epoch=0:   5%|█▍                         | 22/427 [00:52<02:18,  2.93it/s]\u001b[A\n",
            "Train epoch=0:   5%|█▍                         | 23/427 [00:52<01:59,  3.38it/s]\u001b[A\n",
            "Train epoch=0:   6%|█▌                         | 24/427 [00:52<01:36,  4.19it/s]\u001b[A\n",
            "Train epoch=0:   6%|█▌                         | 25/427 [00:52<01:53,  3.53it/s]\u001b[A\n",
            "Train epoch=0:   6%|█▋                         | 26/427 [00:53<02:05,  3.20it/s]\u001b[A\n",
            "Train epoch=0:   6%|█▋                         | 27/427 [00:53<02:13,  2.99it/s]\u001b[A\n",
            "Train epoch=0:   7%|█▊                         | 28/427 [00:54<02:18,  2.87it/s]\u001b[A\n",
            "Train epoch=0:   7%|█▊                         | 29/427 [00:54<02:23,  2.78it/s]\u001b[A\n",
            "Train epoch=0:   7%|█▉                         | 30/427 [00:54<02:09,  3.07it/s]\u001b[A\n",
            "Train epoch=0:   7%|█▉                         | 31/427 [00:55<02:15,  2.93it/s]\u001b[A\n",
            "Train epoch=0:   7%|██                         | 32/427 [00:55<02:19,  2.84it/s]\u001b[A\n",
            "Train epoch=0:   8%|██                         | 33/427 [00:55<02:21,  2.79it/s]\u001b[A\n",
            "Train epoch=0:   8%|██▏                        | 34/427 [00:56<02:23,  2.75it/s]\u001b[A\n",
            "Train epoch=0:   8%|██▏                        | 35/427 [00:56<02:32,  2.57it/s]\u001b[A\n",
            "Train epoch=0:   8%|██▎                        | 36/427 [00:57<02:30,  2.59it/s]\u001b[A\n",
            "Train epoch=0:   9%|██▎                        | 37/427 [00:57<02:23,  2.72it/s]\u001b[A\n",
            "Train epoch=0:   9%|██▍                        | 38/427 [00:57<02:23,  2.72it/s]\u001b[A\n",
            "Train epoch=0:   9%|██▍                        | 39/427 [00:58<02:23,  2.71it/s]\u001b[A\n",
            "Train epoch=0:   9%|██▌                        | 40/427 [00:58<02:07,  3.04it/s]\u001b[A\n",
            "Train epoch=0:  10%|██▌                        | 41/427 [00:58<02:12,  2.92it/s]\u001b[A\n",
            "Train epoch=0:  10%|██▋                        | 42/427 [00:59<02:17,  2.80it/s]\u001b[A\n",
            "Train epoch=0:  10%|██▋                        | 43/427 [00:59<01:54,  3.34it/s]\u001b[A\n",
            "Train epoch=0:  10%|██▊                        | 44/427 [00:59<02:17,  2.78it/s]\u001b[A\n",
            "Train epoch=0:  11%|██▊                        | 45/427 [01:00<02:20,  2.72it/s]\u001b[A\n",
            "Train epoch=0:  11%|██▉                        | 46/427 [01:00<02:20,  2.71it/s]\u001b[A\n",
            "Train epoch=0:  11%|██▉                        | 47/427 [01:01<02:27,  2.58it/s]\u001b[A\n",
            "Train epoch=0:  11%|███                        | 48/427 [01:01<02:27,  2.58it/s]\u001b[A\n",
            "Train epoch=0:  11%|███                        | 49/427 [01:01<02:25,  2.61it/s]\u001b[A\n",
            "Train epoch=0:  12%|███▏                       | 50/427 [01:02<02:23,  2.63it/s]\u001b[A\n",
            "Train epoch=0:  12%|███▏                       | 51/427 [01:02<02:22,  2.64it/s]\u001b[A\n",
            "Train epoch=0:  12%|███▎                       | 52/427 [01:02<02:21,  2.66it/s]\u001b[A\n",
            "Train epoch=0:  12%|███▎                       | 53/427 [01:03<02:55,  2.13it/s]\u001b[A\n",
            "Train epoch=0:  13%|███▍                       | 54/427 [01:04<03:50,  1.61it/s]\u001b[A\n",
            "Train epoch=0:  13%|███▍                       | 55/427 [01:05<03:34,  1.74it/s]\u001b[A\n",
            "Train epoch=0:  13%|███▌                       | 56/427 [01:05<03:11,  1.94it/s]\u001b[A\n",
            "Train epoch=0:  13%|███▌                       | 57/427 [01:05<02:54,  2.12it/s]\u001b[A\n",
            "Train epoch=0:  14%|███▋                       | 58/427 [01:06<02:43,  2.25it/s]\u001b[A\n",
            "Train epoch=0:  14%|███▋                       | 59/427 [01:06<02:36,  2.35it/s]\u001b[A\n",
            "Train epoch=0:  14%|███▊                       | 60/427 [01:06<02:30,  2.43it/s]\u001b[A\n",
            "Train epoch=0:  14%|███▊                       | 61/427 [01:07<02:26,  2.51it/s]\u001b[A\n",
            "Train epoch=0:  15%|███▉                       | 62/427 [01:07<02:22,  2.56it/s]\u001b[A\n",
            "Train epoch=0:  15%|███▉                       | 63/427 [01:08<02:19,  2.61it/s]\u001b[A\n",
            "Train epoch=0:  15%|████                       | 64/427 [01:08<02:24,  2.52it/s]\u001b[A\n",
            "Train epoch=0:  15%|████                       | 65/427 [01:08<02:21,  2.56it/s]\u001b[A\n",
            "Train epoch=0:  15%|████▏                      | 66/427 [01:09<02:19,  2.58it/s]\u001b[A\n",
            "Train epoch=0:  16%|████▏                      | 67/427 [01:09<02:18,  2.59it/s]\u001b[A\n",
            "Train epoch=0:  16%|████▎                      | 68/427 [01:09<02:17,  2.61it/s]\u001b[A\n",
            "Train epoch=0:  16%|████▎                      | 69/427 [01:10<02:16,  2.63it/s]\u001b[A\n",
            "Train epoch=0:  16%|████▍                      | 70/427 [01:10<02:15,  2.64it/s]\u001b[A\n",
            "Train epoch=0:  17%|████▍                      | 71/427 [01:10<02:02,  2.91it/s]\u001b[A\n",
            "Train epoch=0:  17%|████▌                      | 72/427 [01:11<02:05,  2.83it/s]\u001b[A\n",
            "Train epoch=0:  17%|████▌                      | 73/427 [01:11<02:07,  2.77it/s]\u001b[A\n",
            "Train epoch=0:  17%|████▋                      | 74/427 [01:11<01:45,  3.35it/s]\u001b[A\n",
            "Train epoch=0:  18%|████▋                      | 75/427 [01:12<01:52,  3.12it/s]\u001b[A\n",
            "Train epoch=0:  18%|████▊                      | 76/427 [01:12<01:58,  2.96it/s]\u001b[A\n",
            "Train epoch=0:  18%|████▊                      | 77/427 [01:13<03:04,  1.89it/s]\u001b[A\n",
            "Train epoch=0:  18%|████▉                      | 78/427 [01:13<02:48,  2.08it/s]\u001b[A\n",
            "Train epoch=0:  19%|████▉                      | 79/427 [01:14<02:37,  2.21it/s]\u001b[A\n",
            "Train epoch=0:  19%|█████                      | 80/427 [01:15<04:16,  1.35it/s]\u001b[A\n",
            "Train epoch=0:  19%|█████                      | 81/427 [01:16<03:37,  1.59it/s]\u001b[A\n",
            "Train epoch=0:  19%|█████▏                     | 82/427 [01:16<03:11,  1.81it/s]\u001b[A\n",
            "Train epoch=0:  19%|█████▏                     | 83/427 [01:16<02:25,  2.37it/s]\u001b[A\n",
            "Train epoch=0:  20%|█████▎                     | 84/427 [01:16<02:19,  2.45it/s]\u001b[A\n",
            "Train epoch=0:  20%|█████▎                     | 85/427 [01:17<01:53,  3.01it/s]\u001b[A\n",
            "Train epoch=0:  20%|█████▍                     | 86/427 [01:17<01:57,  2.90it/s]\u001b[A\n",
            "Train epoch=0:  20%|█████▌                     | 87/427 [01:17<01:59,  2.84it/s]\u001b[A\n",
            "Train epoch=0:  21%|█████▌                     | 88/427 [01:18<02:01,  2.79it/s]\u001b[A\n",
            "Train epoch=0:  21%|█████▋                     | 89/427 [01:18<02:03,  2.75it/s]\u001b[A\n",
            "Train epoch=0:  21%|█████▋                     | 90/427 [01:19<02:34,  2.18it/s]\u001b[A\n",
            "Train epoch=0:  21%|█████▊                     | 91/427 [01:19<02:25,  2.31it/s]\u001b[A\n",
            "Train epoch=0:  22%|█████▊                     | 92/427 [01:20<02:47,  1.99it/s]\u001b[A\n",
            "Train epoch=0:  22%|█████▉                     | 93/427 [01:20<02:35,  2.15it/s]\u001b[A\n",
            "Train epoch=0:  22%|█████▉                     | 94/427 [01:21<02:26,  2.27it/s]\u001b[A\n",
            "Train epoch=0:  22%|██████                     | 95/427 [01:21<02:20,  2.37it/s]\u001b[A\n",
            "Train epoch=0:  22%|██████                     | 96/427 [01:21<02:19,  2.37it/s]\u001b[A\n",
            "Train epoch=0:  23%|██████▏                    | 97/427 [01:22<02:14,  2.46it/s]\u001b[A\n",
            "Train epoch=0:  23%|██████▏                    | 98/427 [01:22<02:11,  2.51it/s]\u001b[A\n",
            "Train epoch=0:  23%|██████▎                    | 99/427 [01:23<02:08,  2.56it/s]\u001b[A\n",
            "Train epoch=0:  23%|██████                    | 100/427 [01:23<02:06,  2.59it/s]\u001b[A\n",
            "Train epoch=0:  24%|██████▏                   | 101/427 [01:23<02:04,  2.62it/s]\u001b[A\n",
            "Train epoch=0:  24%|██████▏                   | 102/427 [01:24<03:01,  1.79it/s]\u001b[A\n",
            "Train epoch=0:  24%|██████▎                   | 103/427 [01:25<02:43,  1.98it/s]\u001b[A\n",
            "Train epoch=0:  24%|██████▎                   | 104/427 [01:25<02:58,  1.81it/s]\u001b[A\n",
            "Train epoch=0:  25%|██████▍                   | 105/427 [01:25<02:17,  2.33it/s]\u001b[A\n",
            "Train epoch=0:  25%|██████▍                   | 106/427 [01:26<02:13,  2.41it/s]\u001b[A\n",
            "Train epoch=0:  25%|██████▌                   | 107/427 [01:26<02:09,  2.48it/s]\u001b[A\n",
            "Train epoch=0:  25%|██████▌                   | 108/427 [01:27<02:05,  2.54it/s]\u001b[A\n",
            "Train epoch=0:  26%|██████▋                   | 109/427 [01:27<02:05,  2.53it/s]\u001b[A\n",
            "Train epoch=0:  26%|██████▋                   | 110/427 [01:27<02:03,  2.57it/s]\u001b[A\n",
            "Train epoch=0:  26%|██████▊                   | 111/427 [01:28<02:58,  1.77it/s]\u001b[A\n",
            "Train epoch=0:  26%|██████▊                   | 112/427 [01:29<03:10,  1.65it/s]\u001b[A\n",
            "Train epoch=0:  26%|██████▉                   | 113/427 [01:29<02:47,  1.87it/s]\u001b[A\n",
            "Train epoch=0:  27%|██████▉                   | 114/427 [01:30<02:32,  2.06it/s]\u001b[A\n",
            "Train epoch=0:  27%|███████                   | 115/427 [01:30<02:51,  1.82it/s]\u001b[A\n",
            "Train epoch=0:  27%|███████                   | 116/427 [01:31<02:34,  2.01it/s]\u001b[A\n",
            "Train epoch=0:  27%|███████                   | 117/427 [01:31<02:22,  2.18it/s]\u001b[A\n",
            "Train epoch=0:  28%|███████▏                  | 118/427 [01:32<02:13,  2.31it/s]\u001b[A\n",
            "Train epoch=0:  28%|███████▏                  | 119/427 [01:32<02:07,  2.42it/s]\u001b[A\n",
            "Train epoch=0:  28%|███████▎                  | 120/427 [01:33<03:37,  1.41it/s]\u001b[A\n",
            "Train epoch=0:  28%|███████▎                  | 121/427 [01:34<03:06,  1.64it/s]\u001b[A\n",
            "Train epoch=0:  29%|███████▍                  | 122/427 [01:34<02:43,  1.86it/s]\u001b[A\n",
            "Train epoch=0:  29%|███████▍                  | 123/427 [01:35<03:01,  1.67it/s]\u001b[A\n",
            "Train epoch=0:  29%|███████▌                  | 124/427 [01:35<02:40,  1.89it/s]\u001b[A\n",
            "Train epoch=0:  29%|███████▌                  | 125/427 [01:36<02:25,  2.08it/s]\u001b[A\n",
            "Train epoch=0:  30%|███████▋                  | 126/427 [01:36<02:15,  2.23it/s]\u001b[A\n",
            "Train epoch=0:  30%|███████▋                  | 127/427 [01:36<02:07,  2.35it/s]\u001b[A\n",
            "Train epoch=0:  30%|███████▊                  | 128/427 [01:37<02:31,  1.97it/s]\u001b[A\n",
            "Train epoch=0:  30%|███████▊                  | 129/427 [01:37<02:19,  2.14it/s]\u001b[A\n",
            "Train epoch=0:  30%|███████▉                  | 130/427 [01:38<02:10,  2.28it/s]\u001b[A\n",
            "Train epoch=0:  31%|███████▉                  | 131/427 [01:38<02:03,  2.39it/s]\u001b[A\n",
            "Train epoch=0:  31%|████████                  | 132/427 [01:39<01:59,  2.46it/s]\u001b[A\n",
            "Train epoch=0:  31%|████████                  | 133/427 [01:39<02:21,  2.07it/s]\u001b[A\n",
            "Train epoch=0:  31%|████████▏                 | 134/427 [01:40<02:11,  2.22it/s]\u001b[A\n",
            "Train epoch=0:  32%|████████▏                 | 135/427 [01:40<02:04,  2.34it/s]\u001b[A\n",
            "Train epoch=0:  32%|████████▎                 | 136/427 [01:40<01:59,  2.44it/s]\u001b[A\n",
            "Train epoch=0:  32%|████████▎                 | 137/427 [01:41<01:55,  2.51it/s]\u001b[A\n",
            "Train epoch=0:  32%|████████▍                 | 138/427 [01:41<01:43,  2.80it/s]\u001b[A\n",
            "Train epoch=0:  33%|████████▍                 | 139/427 [01:41<01:23,  3.45it/s]\u001b[A\n",
            "Train epoch=0:  33%|████████▌                 | 140/427 [01:41<01:31,  3.14it/s]\u001b[A\n",
            "Train epoch=0:  33%|████████▌                 | 141/427 [01:42<01:35,  3.01it/s]\u001b[A\n",
            "Train epoch=0:  33%|████████▋                 | 142/427 [01:42<01:38,  2.90it/s]\u001b[A\n",
            "Train epoch=0:  33%|████████▋                 | 143/427 [01:43<02:08,  2.21it/s]\u001b[A\n",
            "Train epoch=0:  34%|████████▊                 | 144/427 [01:43<02:01,  2.33it/s]\u001b[A\n",
            "Train epoch=0:  34%|████████▊                 | 145/427 [01:44<02:07,  2.22it/s]\u001b[A\n",
            "Train epoch=0:  34%|████████▉                 | 146/427 [01:44<02:00,  2.33it/s]\u001b[A\n",
            "Train epoch=0:  34%|████████▉                 | 147/427 [01:45<01:55,  2.43it/s]\u001b[A\n",
            "Train epoch=0:  35%|█████████                 | 148/427 [01:45<02:41,  1.73it/s]\u001b[A\n",
            "Train epoch=0:  35%|█████████                 | 149/427 [01:46<02:34,  1.80it/s]\u001b[A\n",
            "Train epoch=0:  35%|█████████▏                | 150/427 [01:46<02:19,  1.99it/s]\u001b[A\n",
            "Train epoch=0:  35%|█████████▏                | 151/427 [01:47<02:08,  2.15it/s]\u001b[A\n",
            "Train epoch=0:  36%|█████████▎                | 152/427 [01:47<02:03,  2.22it/s]\u001b[A\n",
            "Train epoch=0:  36%|█████████▎                | 153/427 [01:48<01:57,  2.34it/s]\u001b[A\n",
            "Train epoch=0:  36%|█████████▍                | 154/427 [01:48<01:52,  2.42it/s]\u001b[A\n",
            "Train epoch=0:  36%|█████████▍                | 155/427 [01:48<01:49,  2.48it/s]\u001b[A\n",
            "Train epoch=0:  37%|█████████▍                | 156/427 [01:49<01:47,  2.53it/s]\u001b[A\n",
            "Train epoch=0:  37%|█████████▌                | 157/427 [01:49<01:45,  2.55it/s]\u001b[A\n",
            "Train epoch=0:  37%|█████████▌                | 158/427 [01:49<01:44,  2.58it/s]\u001b[A\n",
            "Train epoch=0:  37%|█████████▋                | 159/427 [01:50<02:08,  2.08it/s]\u001b[A\n",
            "Train epoch=0:  37%|█████████▋                | 160/427 [01:51<02:14,  1.99it/s]\u001b[A\n",
            "Train epoch=0:  38%|█████████▊                | 161/427 [01:51<02:03,  2.15it/s]\u001b[A\n",
            "Train epoch=0:  38%|█████████▊                | 162/427 [01:52<02:43,  1.62it/s]\u001b[A\n",
            "Train epoch=0:  38%|█████████▉                | 163/427 [01:52<02:05,  2.10it/s]\u001b[A\n",
            "Train epoch=0:  38%|█████████▉                | 164/427 [01:53<01:57,  2.24it/s]\u001b[A\n",
            "Train epoch=0:  39%|██████████                | 165/427 [01:53<01:51,  2.36it/s]\u001b[A\n",
            "Train epoch=0:  39%|██████████                | 166/427 [01:53<01:46,  2.45it/s]\u001b[A\n",
            "Train epoch=0:  39%|██████████▏               | 167/427 [01:54<01:43,  2.50it/s]\u001b[A\n",
            "Train epoch=0:  39%|██████████▏               | 168/427 [01:54<01:41,  2.56it/s]\u001b[A\n",
            "Train epoch=0:  40%|██████████▎               | 169/427 [01:54<01:39,  2.59it/s]\u001b[A\n",
            "Train epoch=0:  40%|██████████▎               | 170/427 [01:55<01:38,  2.62it/s]\u001b[A\n",
            "Train epoch=0:  40%|██████████▍               | 171/427 [01:56<02:22,  1.79it/s]\u001b[A\n",
            "Train epoch=0:  40%|██████████▍               | 172/427 [01:56<02:08,  1.98it/s]\u001b[A\n",
            "Train epoch=0:  41%|██████████▌               | 173/427 [01:57<01:58,  2.15it/s]\u001b[A\n",
            "Train epoch=0:  41%|██████████▌               | 174/427 [01:57<01:51,  2.28it/s]\u001b[A\n",
            "Train epoch=0:  41%|██████████▋               | 175/427 [01:58<02:07,  1.98it/s]\u001b[A\n",
            "Train epoch=0:  41%|██████████▋               | 176/427 [01:58<01:39,  2.52it/s]\u001b[A\n",
            "Train epoch=0:  41%|██████████▊               | 177/427 [01:58<01:37,  2.57it/s]\u001b[A\n",
            "Train epoch=0:  42%|██████████▊               | 178/427 [01:58<01:36,  2.57it/s]\u001b[A\n",
            "Train epoch=0:  42%|██████████▉               | 179/427 [01:59<01:23,  2.97it/s]\u001b[A\n",
            "Train epoch=0:  42%|██████████▉               | 180/427 [01:59<01:26,  2.87it/s]\u001b[A\n",
            "Train epoch=0:  42%|███████████               | 181/427 [01:59<01:27,  2.81it/s]\u001b[A\n",
            "Train epoch=0:  43%|███████████               | 182/427 [02:00<01:28,  2.76it/s]\u001b[A\n",
            "Train epoch=0:  43%|███████████▏              | 183/427 [02:00<01:32,  2.63it/s]\u001b[A\n",
            "Train epoch=0:  43%|███████████▏              | 184/427 [02:01<01:34,  2.57it/s]\u001b[A\n",
            "Train epoch=0:  43%|███████████▎              | 185/427 [02:01<01:32,  2.61it/s]\u001b[A\n",
            "Train epoch=0:  44%|███████████▎              | 186/427 [02:01<01:13,  3.26it/s]\u001b[A\n",
            "Train epoch=0:  44%|███████████▍              | 187/427 [02:02<01:38,  2.44it/s]\u001b[A\n",
            "Train epoch=0:  44%|███████████▍              | 188/427 [02:02<01:35,  2.51it/s]\u001b[A\n",
            "Train epoch=0:  44%|███████████▌              | 189/427 [02:03<01:43,  2.31it/s]\u001b[A\n",
            "Train epoch=0:  44%|███████████▌              | 190/427 [02:03<01:59,  1.99it/s]\u001b[A\n",
            "Train epoch=0:  45%|███████████▋              | 191/427 [02:04<01:49,  2.15it/s]\u001b[A\n",
            "Train epoch=0:  45%|███████████▋              | 192/427 [02:04<01:43,  2.27it/s]\u001b[A\n",
            "Train epoch=0:  45%|███████████▊              | 193/427 [02:04<01:38,  2.39it/s]\u001b[A\n",
            "Train epoch=0:  45%|███████████▊              | 194/427 [02:05<01:34,  2.46it/s]\u001b[A\n",
            "Train epoch=0:  46%|███████████▊              | 195/427 [02:05<01:31,  2.53it/s]\u001b[A\n",
            "Train epoch=0:  46%|███████████▉              | 196/427 [02:06<01:30,  2.55it/s]\u001b[A\n",
            "Train epoch=0:  46%|███████████▉              | 197/427 [02:06<01:29,  2.57it/s]\u001b[A\n",
            "Train epoch=0:  46%|████████████              | 198/427 [02:06<01:37,  2.35it/s]\u001b[A\n",
            "Train epoch=0:  47%|████████████              | 199/427 [02:07<02:13,  1.70it/s]\u001b[A\n",
            "Train epoch=0:  47%|████████████▏             | 200/427 [02:08<01:59,  1.90it/s]\u001b[A\n",
            "Train epoch=0:  47%|████████████▏             | 201/427 [02:08<01:48,  2.09it/s]\u001b[A\n",
            "Train epoch=0:  47%|████████████▎             | 202/427 [02:09<01:50,  2.04it/s]\u001b[A\n",
            "Train epoch=0:  48%|████████████▎             | 203/427 [02:09<02:04,  1.80it/s]\u001b[A\n",
            "Train epoch=0:  48%|████████████▍             | 204/427 [02:10<01:51,  1.99it/s]\u001b[A\n",
            "Train epoch=0:  48%|████████████▍             | 205/427 [02:10<01:28,  2.52it/s]\u001b[A\n",
            "Train epoch=0:  48%|████████████▌             | 206/427 [02:10<01:26,  2.56it/s]\u001b[A\n",
            "Train epoch=0:  48%|████████████▌             | 207/427 [02:11<01:25,  2.58it/s]\u001b[A\n",
            "Train epoch=0:  49%|████████████▋             | 208/427 [02:11<01:24,  2.60it/s]\u001b[A\n",
            "Train epoch=0:  49%|████████████▋             | 209/427 [02:11<01:23,  2.62it/s]\u001b[A\n",
            "Train epoch=0:  49%|████████████▊             | 210/427 [02:12<02:00,  1.80it/s]\u001b[A\n",
            "Train epoch=0:  49%|████████████▊             | 211/427 [02:13<01:37,  2.22it/s]\u001b[A\n",
            "Train epoch=0:  50%|████████████▉             | 212/427 [02:13<01:32,  2.33it/s]\u001b[A\n",
            "Train epoch=0:  50%|████████████▉             | 213/427 [02:13<01:23,  2.55it/s]\u001b[A\n",
            "Train epoch=0:  50%|█████████████             | 214/427 [02:13<01:05,  3.24it/s]\u001b[A\n",
            "Train epoch=0:  50%|█████████████             | 215/427 [02:14<01:47,  1.98it/s]\u001b[A\n",
            "Train epoch=0:  51%|█████████████▏            | 216/427 [02:15<01:38,  2.15it/s]\u001b[A\n",
            "Train epoch=0:  51%|█████████████▏            | 217/427 [02:15<01:31,  2.29it/s]\u001b[A\n",
            "Train epoch=0:  51%|█████████████▎            | 218/427 [02:15<01:27,  2.39it/s]\u001b[A\n",
            "Train epoch=0:  51%|█████████████▎            | 219/427 [02:16<01:24,  2.47it/s]\u001b[A\n",
            "Train epoch=0:  52%|█████████████▍            | 220/427 [02:16<01:21,  2.54it/s]\u001b[A\n",
            "Train epoch=0:  52%|█████████████▍            | 221/427 [02:17<01:19,  2.58it/s]\u001b[A\n",
            "Train epoch=0:  52%|█████████████▌            | 222/427 [02:17<01:21,  2.51it/s]\u001b[A\n",
            "Train epoch=0:  52%|█████████████▌            | 223/427 [02:17<01:19,  2.57it/s]\u001b[A\n",
            "Train epoch=0:  52%|█████████████▋            | 224/427 [02:18<01:18,  2.60it/s]\u001b[A\n",
            "Train epoch=0:  53%|█████████████▋            | 225/427 [02:19<01:53,  1.78it/s]\u001b[A\n",
            "Train epoch=0:  53%|█████████████▊            | 226/427 [02:19<01:49,  1.83it/s]\u001b[A\n",
            "Train epoch=0:  53%|█████████████▊            | 227/427 [02:20<01:38,  2.02it/s]\u001b[A\n",
            "Train epoch=0:  53%|█████████████▉            | 228/427 [02:20<01:34,  2.10it/s]\u001b[A\n",
            "Train epoch=0:  54%|█████████████▉            | 229/427 [02:21<01:38,  2.01it/s]\u001b[A\n",
            "Train epoch=0:  54%|██████████████            | 230/427 [02:21<01:32,  2.13it/s]\u001b[A\n",
            "Train epoch=0:  54%|██████████████            | 231/427 [02:21<01:31,  2.14it/s]\u001b[A\n",
            "Train epoch=0:  54%|██████████████▏           | 232/427 [02:22<01:32,  2.11it/s]\u001b[A\n",
            "Train epoch=0:  55%|██████████████▏           | 233/427 [02:22<01:26,  2.24it/s]\u001b[A\n",
            "Train epoch=0:  55%|██████████████▏           | 234/427 [02:23<01:41,  1.90it/s]\u001b[A\n",
            "Train epoch=0:  55%|██████████████▎           | 235/427 [02:23<01:32,  2.08it/s]\u001b[A"
          ],
          "name": "stderr"
        },
        {
          "output_type": "error",
          "ename": "RuntimeError",
          "evalue": "ignored",
          "traceback": [
            "\u001b[0;31m---------------------------------------------------------------------------\u001b[0m",
            "\u001b[0;31mRuntimeError\u001b[0m                              Traceback (most recent call last)",
            "\u001b[0;32m<ipython-input-36-576324ae4373>\u001b[0m in \u001b[0;36m<module>\u001b[0;34m()\u001b[0m\n\u001b[1;32m     51\u001b[0m \u001b[0mtrainer\u001b[0m\u001b[0;34m.\u001b[0m\u001b[0mepoch\u001b[0m \u001b[0;34m=\u001b[0m \u001b[0;36m0\u001b[0m\u001b[0;34m\u001b[0m\u001b[0;34m\u001b[0m\u001b[0m\n\u001b[1;32m     52\u001b[0m \u001b[0mtrainer\u001b[0m\u001b[0;34m.\u001b[0m\u001b[0miteration\u001b[0m \u001b[0;34m=\u001b[0m \u001b[0;36m0\u001b[0m\u001b[0;34m\u001b[0m\u001b[0;34m\u001b[0m\u001b[0m\n\u001b[0;32m---> 53\u001b[0;31m \u001b[0mtrainer\u001b[0m\u001b[0;34m.\u001b[0m\u001b[0mtrain\u001b[0m\u001b[0;34m(\u001b[0m\u001b[0;34m)\u001b[0m\u001b[0;34m\u001b[0m\u001b[0;34m\u001b[0m\u001b[0m\n\u001b[0m",
            "\u001b[0;32m/usr/local/lib/python3.6/dist-packages/torchfcn/trainer.py\u001b[0m in \u001b[0;36mtrain\u001b[0;34m(self)\u001b[0m\n\u001b[1;32m    226\u001b[0m                                  desc='Train', ncols=80):\n\u001b[1;32m    227\u001b[0m             \u001b[0mself\u001b[0m\u001b[0;34m.\u001b[0m\u001b[0mepoch\u001b[0m \u001b[0;34m=\u001b[0m \u001b[0mepoch\u001b[0m\u001b[0;34m\u001b[0m\u001b[0;34m\u001b[0m\u001b[0m\n\u001b[0;32m--> 228\u001b[0;31m             \u001b[0mself\u001b[0m\u001b[0;34m.\u001b[0m\u001b[0mtrain_epoch\u001b[0m\u001b[0;34m(\u001b[0m\u001b[0;34m)\u001b[0m\u001b[0;34m\u001b[0m\u001b[0;34m\u001b[0m\u001b[0m\n\u001b[0m\u001b[1;32m    229\u001b[0m             \u001b[0;32mif\u001b[0m \u001b[0mself\u001b[0m\u001b[0;34m.\u001b[0m\u001b[0miteration\u001b[0m \u001b[0;34m>=\u001b[0m \u001b[0mself\u001b[0m\u001b[0;34m.\u001b[0m\u001b[0mmax_iter\u001b[0m\u001b[0;34m:\u001b[0m\u001b[0;34m\u001b[0m\u001b[0;34m\u001b[0m\u001b[0m\n\u001b[1;32m    230\u001b[0m                 \u001b[0;32mbreak\u001b[0m\u001b[0;34m\u001b[0m\u001b[0;34m\u001b[0m\u001b[0m\n",
            "\u001b[0;32m/usr/local/lib/python3.6/dist-packages/torchfcn/trainer.py\u001b[0m in \u001b[0;36mtrain_epoch\u001b[0;34m(self)\u001b[0m\n\u001b[1;32m    189\u001b[0m             \u001b[0mdata\u001b[0m\u001b[0;34m,\u001b[0m \u001b[0mtarget\u001b[0m \u001b[0;34m=\u001b[0m \u001b[0mVariable\u001b[0m\u001b[0;34m(\u001b[0m\u001b[0mdata\u001b[0m\u001b[0;34m)\u001b[0m\u001b[0;34m,\u001b[0m \u001b[0mVariable\u001b[0m\u001b[0;34m(\u001b[0m\u001b[0mtarget\u001b[0m\u001b[0;34m)\u001b[0m\u001b[0;34m\u001b[0m\u001b[0;34m\u001b[0m\u001b[0m\n\u001b[1;32m    190\u001b[0m             \u001b[0mself\u001b[0m\u001b[0;34m.\u001b[0m\u001b[0moptim\u001b[0m\u001b[0;34m.\u001b[0m\u001b[0mzero_grad\u001b[0m\u001b[0;34m(\u001b[0m\u001b[0;34m)\u001b[0m\u001b[0;34m\u001b[0m\u001b[0;34m\u001b[0m\u001b[0m\n\u001b[0;32m--> 191\u001b[0;31m             \u001b[0mscore\u001b[0m \u001b[0;34m=\u001b[0m \u001b[0mself\u001b[0m\u001b[0;34m.\u001b[0m\u001b[0mmodel\u001b[0m\u001b[0;34m(\u001b[0m\u001b[0mdata\u001b[0m\u001b[0;34m)\u001b[0m\u001b[0;34m\u001b[0m\u001b[0;34m\u001b[0m\u001b[0m\n\u001b[0m\u001b[1;32m    192\u001b[0m \u001b[0;34m\u001b[0m\u001b[0m\n\u001b[1;32m    193\u001b[0m             loss = cross_entropy2d(score, target,\n",
            "\u001b[0;32m/usr/local/lib/python3.6/dist-packages/torch/nn/modules/module.py\u001b[0m in \u001b[0;36m__call__\u001b[0;34m(self, *input, **kwargs)\u001b[0m\n\u001b[1;32m    539\u001b[0m             \u001b[0mresult\u001b[0m \u001b[0;34m=\u001b[0m \u001b[0mself\u001b[0m\u001b[0;34m.\u001b[0m\u001b[0m_slow_forward\u001b[0m\u001b[0;34m(\u001b[0m\u001b[0;34m*\u001b[0m\u001b[0minput\u001b[0m\u001b[0;34m,\u001b[0m \u001b[0;34m**\u001b[0m\u001b[0mkwargs\u001b[0m\u001b[0;34m)\u001b[0m\u001b[0;34m\u001b[0m\u001b[0;34m\u001b[0m\u001b[0m\n\u001b[1;32m    540\u001b[0m         \u001b[0;32melse\u001b[0m\u001b[0;34m:\u001b[0m\u001b[0;34m\u001b[0m\u001b[0;34m\u001b[0m\u001b[0m\n\u001b[0;32m--> 541\u001b[0;31m             \u001b[0mresult\u001b[0m \u001b[0;34m=\u001b[0m \u001b[0mself\u001b[0m\u001b[0;34m.\u001b[0m\u001b[0mforward\u001b[0m\u001b[0;34m(\u001b[0m\u001b[0;34m*\u001b[0m\u001b[0minput\u001b[0m\u001b[0;34m,\u001b[0m \u001b[0;34m**\u001b[0m\u001b[0mkwargs\u001b[0m\u001b[0;34m)\u001b[0m\u001b[0;34m\u001b[0m\u001b[0;34m\u001b[0m\u001b[0m\n\u001b[0m\u001b[1;32m    542\u001b[0m         \u001b[0;32mfor\u001b[0m \u001b[0mhook\u001b[0m \u001b[0;32min\u001b[0m \u001b[0mself\u001b[0m\u001b[0;34m.\u001b[0m\u001b[0m_forward_hooks\u001b[0m\u001b[0;34m.\u001b[0m\u001b[0mvalues\u001b[0m\u001b[0;34m(\u001b[0m\u001b[0;34m)\u001b[0m\u001b[0;34m:\u001b[0m\u001b[0;34m\u001b[0m\u001b[0;34m\u001b[0m\u001b[0m\n\u001b[1;32m    543\u001b[0m             \u001b[0mhook_result\u001b[0m \u001b[0;34m=\u001b[0m \u001b[0mhook\u001b[0m\u001b[0;34m(\u001b[0m\u001b[0mself\u001b[0m\u001b[0;34m,\u001b[0m \u001b[0minput\u001b[0m\u001b[0;34m,\u001b[0m \u001b[0mresult\u001b[0m\u001b[0;34m)\u001b[0m\u001b[0;34m\u001b[0m\u001b[0;34m\u001b[0m\u001b[0m\n",
            "\u001b[0;32m/usr/local/lib/python3.6/dist-packages/torchfcn/models/fcn8s.py\u001b[0m in \u001b[0;36mforward\u001b[0;34m(self, x)\u001b[0m\n\u001b[1;32m    105\u001b[0m \u001b[0;34m\u001b[0m\u001b[0m\n\u001b[1;32m    106\u001b[0m         \u001b[0mh\u001b[0m \u001b[0;34m=\u001b[0m \u001b[0mself\u001b[0m\u001b[0;34m.\u001b[0m\u001b[0mrelu2_1\u001b[0m\u001b[0;34m(\u001b[0m\u001b[0mself\u001b[0m\u001b[0;34m.\u001b[0m\u001b[0mconv2_1\u001b[0m\u001b[0;34m(\u001b[0m\u001b[0mh\u001b[0m\u001b[0;34m)\u001b[0m\u001b[0;34m)\u001b[0m\u001b[0;34m\u001b[0m\u001b[0;34m\u001b[0m\u001b[0m\n\u001b[0;32m--> 107\u001b[0;31m         \u001b[0mh\u001b[0m \u001b[0;34m=\u001b[0m \u001b[0mself\u001b[0m\u001b[0;34m.\u001b[0m\u001b[0mrelu2_2\u001b[0m\u001b[0;34m(\u001b[0m\u001b[0mself\u001b[0m\u001b[0;34m.\u001b[0m\u001b[0mconv2_2\u001b[0m\u001b[0;34m(\u001b[0m\u001b[0mh\u001b[0m\u001b[0;34m)\u001b[0m\u001b[0;34m)\u001b[0m\u001b[0;34m\u001b[0m\u001b[0;34m\u001b[0m\u001b[0m\n\u001b[0m\u001b[1;32m    108\u001b[0m         \u001b[0mh\u001b[0m \u001b[0;34m=\u001b[0m \u001b[0mself\u001b[0m\u001b[0;34m.\u001b[0m\u001b[0mpool2\u001b[0m\u001b[0;34m(\u001b[0m\u001b[0mh\u001b[0m\u001b[0;34m)\u001b[0m\u001b[0;34m\u001b[0m\u001b[0;34m\u001b[0m\u001b[0m\n\u001b[1;32m    109\u001b[0m \u001b[0;34m\u001b[0m\u001b[0m\n",
            "\u001b[0;32m/usr/local/lib/python3.6/dist-packages/torch/nn/modules/module.py\u001b[0m in \u001b[0;36m__call__\u001b[0;34m(self, *input, **kwargs)\u001b[0m\n\u001b[1;32m    539\u001b[0m             \u001b[0mresult\u001b[0m \u001b[0;34m=\u001b[0m \u001b[0mself\u001b[0m\u001b[0;34m.\u001b[0m\u001b[0m_slow_forward\u001b[0m\u001b[0;34m(\u001b[0m\u001b[0;34m*\u001b[0m\u001b[0minput\u001b[0m\u001b[0;34m,\u001b[0m \u001b[0;34m**\u001b[0m\u001b[0mkwargs\u001b[0m\u001b[0;34m)\u001b[0m\u001b[0;34m\u001b[0m\u001b[0;34m\u001b[0m\u001b[0m\n\u001b[1;32m    540\u001b[0m         \u001b[0;32melse\u001b[0m\u001b[0;34m:\u001b[0m\u001b[0;34m\u001b[0m\u001b[0;34m\u001b[0m\u001b[0m\n\u001b[0;32m--> 541\u001b[0;31m             \u001b[0mresult\u001b[0m \u001b[0;34m=\u001b[0m \u001b[0mself\u001b[0m\u001b[0;34m.\u001b[0m\u001b[0mforward\u001b[0m\u001b[0;34m(\u001b[0m\u001b[0;34m*\u001b[0m\u001b[0minput\u001b[0m\u001b[0;34m,\u001b[0m \u001b[0;34m**\u001b[0m\u001b[0mkwargs\u001b[0m\u001b[0;34m)\u001b[0m\u001b[0;34m\u001b[0m\u001b[0;34m\u001b[0m\u001b[0m\n\u001b[0m\u001b[1;32m    542\u001b[0m         \u001b[0;32mfor\u001b[0m \u001b[0mhook\u001b[0m \u001b[0;32min\u001b[0m \u001b[0mself\u001b[0m\u001b[0;34m.\u001b[0m\u001b[0m_forward_hooks\u001b[0m\u001b[0;34m.\u001b[0m\u001b[0mvalues\u001b[0m\u001b[0;34m(\u001b[0m\u001b[0;34m)\u001b[0m\u001b[0;34m:\u001b[0m\u001b[0;34m\u001b[0m\u001b[0;34m\u001b[0m\u001b[0m\n\u001b[1;32m    543\u001b[0m             \u001b[0mhook_result\u001b[0m \u001b[0;34m=\u001b[0m \u001b[0mhook\u001b[0m\u001b[0;34m(\u001b[0m\u001b[0mself\u001b[0m\u001b[0;34m,\u001b[0m \u001b[0minput\u001b[0m\u001b[0;34m,\u001b[0m \u001b[0mresult\u001b[0m\u001b[0;34m)\u001b[0m\u001b[0;34m\u001b[0m\u001b[0;34m\u001b[0m\u001b[0m\n",
            "\u001b[0;32m/usr/local/lib/python3.6/dist-packages/torch/nn/modules/conv.py\u001b[0m in \u001b[0;36mforward\u001b[0;34m(self, input)\u001b[0m\n\u001b[1;32m    343\u001b[0m \u001b[0;34m\u001b[0m\u001b[0m\n\u001b[1;32m    344\u001b[0m     \u001b[0;32mdef\u001b[0m \u001b[0mforward\u001b[0m\u001b[0;34m(\u001b[0m\u001b[0mself\u001b[0m\u001b[0;34m,\u001b[0m \u001b[0minput\u001b[0m\u001b[0;34m)\u001b[0m\u001b[0;34m:\u001b[0m\u001b[0;34m\u001b[0m\u001b[0;34m\u001b[0m\u001b[0m\n\u001b[0;32m--> 345\u001b[0;31m         \u001b[0;32mreturn\u001b[0m \u001b[0mself\u001b[0m\u001b[0;34m.\u001b[0m\u001b[0mconv2d_forward\u001b[0m\u001b[0;34m(\u001b[0m\u001b[0minput\u001b[0m\u001b[0;34m,\u001b[0m \u001b[0mself\u001b[0m\u001b[0;34m.\u001b[0m\u001b[0mweight\u001b[0m\u001b[0;34m)\u001b[0m\u001b[0;34m\u001b[0m\u001b[0;34m\u001b[0m\u001b[0m\n\u001b[0m\u001b[1;32m    346\u001b[0m \u001b[0;34m\u001b[0m\u001b[0m\n\u001b[1;32m    347\u001b[0m \u001b[0;32mclass\u001b[0m \u001b[0mConv3d\u001b[0m\u001b[0;34m(\u001b[0m\u001b[0m_ConvNd\u001b[0m\u001b[0;34m)\u001b[0m\u001b[0;34m:\u001b[0m\u001b[0;34m\u001b[0m\u001b[0;34m\u001b[0m\u001b[0m\n",
            "\u001b[0;32m/usr/local/lib/python3.6/dist-packages/torch/nn/modules/conv.py\u001b[0m in \u001b[0;36mconv2d_forward\u001b[0;34m(self, input, weight)\u001b[0m\n\u001b[1;32m    340\u001b[0m                             _pair(0), self.dilation, self.groups)\n\u001b[1;32m    341\u001b[0m         return F.conv2d(input, weight, self.bias, self.stride,\n\u001b[0;32m--> 342\u001b[0;31m                         self.padding, self.dilation, self.groups)\n\u001b[0m\u001b[1;32m    343\u001b[0m \u001b[0;34m\u001b[0m\u001b[0m\n\u001b[1;32m    344\u001b[0m     \u001b[0;32mdef\u001b[0m \u001b[0mforward\u001b[0m\u001b[0;34m(\u001b[0m\u001b[0mself\u001b[0m\u001b[0;34m,\u001b[0m \u001b[0minput\u001b[0m\u001b[0;34m)\u001b[0m\u001b[0;34m:\u001b[0m\u001b[0;34m\u001b[0m\u001b[0;34m\u001b[0m\u001b[0m\n",
            "\u001b[0;31mRuntimeError\u001b[0m: CUDA out of memory. Tried to allocate 1.74 GiB (GPU 0; 15.90 GiB total capacity; 13.06 GiB already allocated; 569.88 MiB free; 1.58 GiB cached)"
          ]
        }
      ]
    },
    {
      "cell_type": "markdown",
      "metadata": {
        "id": "IPKDLhcGLx6O",
        "colab_type": "text"
      },
      "source": [
        "## 4. Calculate IoU Score\n",
        "Report the mean IoU score after each epoch for both training dataset and validation dataset"
      ]
    },
    {
      "cell_type": "code",
      "metadata": {
        "id": "7-EIk1fkLx6Q",
        "colab_type": "code",
        "colab": {}
      },
      "source": [
        ""
      ],
      "execution_count": 0,
      "outputs": []
    },
    {
      "cell_type": "markdown",
      "metadata": {
        "id": "FcHYSindLx6W",
        "colab_type": "text"
      },
      "source": [
        "## Step 5:\n",
        "Visualize your network output on one image of the validation set"
      ]
    },
    {
      "cell_type": "code",
      "metadata": {
        "id": "WqAyemCOLx6X",
        "colab_type": "code",
        "colab": {}
      },
      "source": [
        ""
      ],
      "execution_count": 0,
      "outputs": []
    }
  ]
}