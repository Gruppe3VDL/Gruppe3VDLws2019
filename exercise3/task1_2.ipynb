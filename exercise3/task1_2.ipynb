{
  "nbformat": 4,
  "nbformat_minor": 0,
  "metadata": {
    "kernelspec": {
      "name": "python3",
      "display_name": "Python 3"
    },
    "language_info": {
      "codemirror_mode": {
        "name": "ipython",
        "version": 3
      },
      "file_extension": ".py",
      "mimetype": "text/x-python",
      "name": "python",
      "nbconvert_exporter": "python",
      "pygments_lexer": "ipython3",
      "version": "3.7.5"
    },
    "colab": {
      "name": "task1_2.ipynb",
      "provenance": [],
      "collapsed_sections": [],
      "toc_visible": true,
      "include_colab_link": true
    },
    "accelerator": "GPU"
  },
  "cells": [
    {
      "cell_type": "markdown",
      "metadata": {
        "id": "view-in-github",
        "colab_type": "text"
      },
      "source": [
        "<a href=\"https://colab.research.google.com/github/Gruppe3VDL/Gruppe3VDLws2019/blob/master/exercise3/task1_2.ipynb\" target=\"_parent\"><img src=\"https://colab.research.google.com/assets/colab-badge.svg\" alt=\"Open In Colab\"/></a>"
      ]
    },
    {
      "cell_type": "markdown",
      "metadata": {
        "id": "qIH6ksmGFL_4",
        "colab_type": "text"
      },
      "source": [
        "[![Open In Colab](https://colab.research.google.com/assets/colab-badge.svg)](https://colab.research.google.com/github/Gruppe3VDL/Gruppe3VDLws2019/blob/master/exercise3/task1_2.ipynb)"
      ]
    },
    {
      "cell_type": "markdown",
      "metadata": {
        "id": "-2meuWAELx5z",
        "colab_type": "text"
      },
      "source": [
        "# Semantic Segmentation"
      ]
    },
    {
      "cell_type": "markdown",
      "metadata": {
        "id": "fK8dQL8kLx53",
        "colab_type": "text"
      },
      "source": [
        "## Step 1:\n",
        "Download and extract the bags dataset\n",
        "https://drive.google.com/file/d/1P4bdP6nSUOqQLhGXvZ1z4z3hNncJFrCs"
      ]
    },
    {
      "cell_type": "code",
      "metadata": {
        "id": "ft_VJUCSWHTc",
        "colab_type": "code",
        "colab": {
          "base_uri": "https://localhost:8080/",
          "height": 54
        },
        "outputId": "a775b854-4869-4d49-c2ff-348c5bd0a545"
      },
      "source": [
        "from google.colab import drive\n",
        "drive.mount('/content/drive')"
      ],
      "execution_count": 1,
      "outputs": [
        {
          "output_type": "stream",
          "text": [
            "Drive already mounted at /content/drive; to attempt to forcibly remount, call drive.mount(\"/content/drive\", force_remount=True).\n"
          ],
          "name": "stdout"
        }
      ]
    },
    {
      "cell_type": "code",
      "metadata": {
        "id": "JgVkRldULx56",
        "colab_type": "code",
        "colab": {
          "base_uri": "https://localhost:8080/",
          "height": 34
        },
        "outputId": "30ba7852-9aa6-4305-c57a-81035c677527"
      },
      "source": [
        "#########################################################################\n",
        "## Navigate to the exercise directory.                                 ##\n",
        "##                                                                     ##\n",
        "## IMPORTANT:                                                          ##\n",
        "## Either change the path below to the exercise folder in your drive   ##\n",
        "## or put the folder at same path in your drive (recommended).         ##\n",
        "#########################################################################\n",
        "\n",
        "%cd 'drive/My Drive/TUK/Very Deep Learning/Exercises/exercise3/'"
      ],
      "execution_count": 2,
      "outputs": [
        {
          "output_type": "stream",
          "text": [
            "/content/drive/My Drive/TUK/Very Deep Learning/Exercises/exercise3\n"
          ],
          "name": "stdout"
        }
      ]
    },
    {
      "cell_type": "code",
      "metadata": {
        "id": "OPm1i-C6Wy1H",
        "colab_type": "code",
        "colab": {
          "base_uri": "https://localhost:8080/",
          "height": 34
        },
        "outputId": "4a46e0ad-b56c-411b-db03-5b0191a3f51b"
      },
      "source": [
        "#########################################################################\n",
        "## Extract bags dataset.                                               ##\n",
        "#########################################################################\n",
        "\n",
        "import os\n",
        "import zipfile\n",
        "\n",
        "\n",
        "if not os.path.exists('data/bags_data'):\n",
        "  print(\"Extracting dataset...\")\n",
        "  with zipfile.ZipFile(\"data/bags_data.zip\",\"r\") as zip_ref:\n",
        "      zip_ref.extractall(\"data/\")\n",
        "  print(\"Done.\")\n",
        "else:\n",
        "  print(\"Dataset already extracted.\")"
      ],
      "execution_count": 3,
      "outputs": [
        {
          "output_type": "stream",
          "text": [
            "Dataset already extracted.\n"
          ],
          "name": "stdout"
        }
      ]
    },
    {
      "cell_type": "code",
      "metadata": {
        "id": "ebD8gUWTXfuM",
        "colab_type": "code",
        "colab": {
          "base_uri": "https://localhost:8080/",
          "height": 34
        },
        "outputId": "b047186b-64a7-484c-8118-f9d57886d284"
      },
      "source": [
        "# Define dataset paths\n",
        "root = 'data/bags_data/'\n",
        "%ls $root\n",
        "\n",
        "images = root + 'JPEGImages/'\n",
        "masks = root + 'segmentation_mask/'\n",
        "imagesets = root + 'imagesets/'"
      ],
      "execution_count": 4,
      "outputs": [
        {
          "output_type": "stream",
          "text": [
            "\u001b[0m\u001b[01;34mimagesets\u001b[0m/  \u001b[01;34mJPEGImages\u001b[0m/  \u001b[01;34msegmentation_mask\u001b[0m/\n"
          ],
          "name": "stdout"
        }
      ]
    },
    {
      "cell_type": "markdown",
      "metadata": {
        "id": "_HUfK4ZlLx6B",
        "colab_type": "text"
      },
      "source": [
        "## Step 2:\n",
        "Write a ```pytorch``` [Dataset](https://pytorch.org/docs/stable/data.html#torch.utils.data.Dataset) class which can iterate over the dataset. (Hint: Get inspiration from the [```pytorch``` tutorials](https://pytorch.org/tutorials/beginner/data_loading_tutorial.html))"
      ]
    },
    {
      "cell_type": "code",
      "metadata": {
        "id": "kSc-MkDgLx6D",
        "colab_type": "code",
        "colab": {}
      },
      "source": [
        "import numpy as np\n",
        "import torch\n",
        "\n",
        "from PIL import Image\n",
        "from torch.utils.data import Dataset\n",
        "\n",
        "\n",
        "class BagsDataset(Dataset):\n",
        "    \"\"\"Bags dataset.\"\"\"\n",
        "\n",
        "    def __init__(self, root_dir, masks_dir, idx, transform=None):\n",
        "        \"\"\"\n",
        "        Args:\n",
        "            root_dir (string): Directory with the images.\n",
        "            masks_dir (string): Directory with segmentation masks.\n",
        "            idx (array): Ids of images to include in this dataset.\n",
        "            transform (callable, optional): Optional transform to be applied\n",
        "                on a sample.\n",
        "        \"\"\"\n",
        "        self.root_dir = root_dir\n",
        "        self.masks_dir = masks_dir\n",
        "        self.idx = idx\n",
        "        self.transform = transform\n",
        "\n",
        "    def __len__(self):\n",
        "        return self.idx.shape[0]\n",
        "\n",
        "    def __getitem__(self, idx):\n",
        "        if torch.is_tensor(idx):\n",
        "            idx = idx.tolist()\n",
        "\n",
        "        img_name = os.path.join(self.root_dir, str(int(self.idx[idx])) + \".jpg\")\n",
        "        image = Image.open(img_name)\n",
        "\n",
        "        mask_name = os.path.join(self.masks_dir, str(int(self.idx[idx])) + \".png\")\n",
        "        mask = Image.open(mask_name)\n",
        "\n",
        "        sample = {'image': image, 'mask': mask}\n",
        "\n",
        "        if self.transform:\n",
        "            sample['image'] = self.transform(sample['image'])\n",
        "            sample['mask'] = self.transform(sample['mask'])\n",
        "\n",
        "        return sample"
      ],
      "execution_count": 0,
      "outputs": []
    },
    {
      "cell_type": "code",
      "metadata": {
        "id": "b4MMeQR1qqaj",
        "colab_type": "code",
        "colab": {
          "base_uri": "https://localhost:8080/",
          "height": 119
        },
        "outputId": "ee777954-2676-4134-bc15-34f54e4d3ca6"
      },
      "source": [
        "from matplotlib import pyplot as plt\n",
        "from torch.utils.data import DataLoader\n",
        "from torchvision import transforms, utils\n",
        "\n",
        "\n",
        "print(\"Loading training set...\")\n",
        "train_idx = np.loadtxt(imagesets + 'train.txt')\n",
        "traindata = BagsDataset(images, masks, train_idx,\n",
        "                        transforms.Compose([\n",
        "                            transforms.Resize((224,224)),\n",
        "                            transforms.ToTensor()\n",
        "                        ]))\n",
        "print(len(traindata), \"images in train set.\\n\")\n",
        "\n",
        "print(\"Loading validation set...\")\n",
        "val_idx = np.loadtxt(imagesets + 'val.txt')\n",
        "valdata = BagsDataset(images, masks, val_idx,\n",
        "                      transforms.Compose([\n",
        "                          transforms.Resize((224,224)),\n",
        "                          transforms.ToTensor()\n",
        "                      ]))\n",
        "print(len(valdata), \"images in validation set.\\n\")"
      ],
      "execution_count": 6,
      "outputs": [
        {
          "output_type": "stream",
          "text": [
            "Loading training set...\n",
            "427 images in train set.\n",
            "\n",
            "Loading validation set...\n",
            "107 images in validation set.\n",
            "\n"
          ],
          "name": "stdout"
        }
      ]
    },
    {
      "cell_type": "code",
      "metadata": {
        "id": "HkiYWFGWp8Re",
        "colab_type": "code",
        "colab": {
          "base_uri": "https://localhost:8080/",
          "height": 306
        },
        "outputId": "5339a1ca-9b0c-4151-fe28-5ce6af708fc9"
      },
      "source": [
        "from torchvision.utils import make_grid\n",
        "\n",
        "\n",
        "def convert_img(im, mask=False):\n",
        "  im = im.numpy()\n",
        "  im = np.transpose(im, (1, 2, 0))\n",
        "  if mask:\n",
        "    im = (im / np.max(im))\n",
        "  return im\n",
        "\n",
        "# Create dataloaders for train and validation sets\n",
        "print(\"Creating data loaders...\")\n",
        "trainloader = DataLoader(traindata, batch_size=4, shuffle=True, num_workers=4)\n",
        "valloader = DataLoader(valdata, batch_size=4, shuffle=True, num_workers=4)\n",
        "\n",
        "print(\"Show sample batch from created datasets...\")\n",
        "batch = iter(trainloader).next()\n",
        "images = batch['image']\n",
        "masks = batch['mask']\n",
        "# masked_imgs = images & masks\n",
        "\n",
        "ax = plt.subplot(2, 1, 1)\n",
        "plt.imshow(convert_img(make_grid(images)))\n",
        "\n",
        "ax = plt.subplot(2, 1, 2)\n",
        "plt.imshow(convert_img(make_grid(masks), mask=True))\n",
        "# plt.imshow(convert_img(make_grid(masked_imgs)))"
      ],
      "execution_count": 7,
      "outputs": [
        {
          "output_type": "stream",
          "text": [
            "Creating data loaders...\n",
            "Show sample batch from created datasets...\n"
          ],
          "name": "stdout"
        },
        {
          "output_type": "execute_result",
          "data": {
            "text/plain": [
              "<matplotlib.image.AxesImage at 0x7f04e7607710>"
            ]
          },
          "metadata": {
            "tags": []
          },
          "execution_count": 7
        },
        {
          "output_type": "display_data",
          "data": {
            "image/png": "[encoded data removed]",
            "text/plain": [
              "<Figure size 432x288 with 2 Axes>"
            ]
          },
          "metadata": {
            "tags": []
          }
        }
      ]
    },
    {
      "cell_type": "markdown",
      "metadata": {
        "id": "zsLXgrl1Lx6K",
        "colab_type": "text"
      },
      "source": [
        "## Step 3:\n",
        "Train a fully-convolutional network on the training dataset.\n",
        "Hint: You can either define your own FCN or use an already implemented model (e.g. https://github.com/wkentaro/pytorch-fcn)"
      ]
    },
    {
      "cell_type": "code",
      "metadata": {
        "id": "LD3CijmrLx6L",
        "colab_type": "code",
        "colab": {}
      },
      "source": [
        ""
      ],
      "execution_count": 0,
      "outputs": []
    },
    {
      "cell_type": "markdown",
      "metadata": {
        "id": "IPKDLhcGLx6O",
        "colab_type": "text"
      },
      "source": [
        "## Step 4:\n",
        "Report the mean IoU score after each epoch for both training dataset and validation dataset"
      ]
    },
    {
      "cell_type": "code",
      "metadata": {
        "id": "7-EIk1fkLx6Q",
        "colab_type": "code",
        "colab": {}
      },
      "source": [
        ""
      ],
      "execution_count": 0,
      "outputs": []
    },
    {
      "cell_type": "markdown",
      "metadata": {
        "id": "FcHYSindLx6W",
        "colab_type": "text"
      },
      "source": [
        "## Step 5:\n",
        "Visualize your network output on one image of the validation set"
      ]
    },
    {
      "cell_type": "code",
      "metadata": {
        "id": "WqAyemCOLx6X",
        "colab_type": "code",
        "colab": {}
      },
      "source": [
        ""
      ],
      "execution_count": 0,
      "outputs": []
    }
  ]
}