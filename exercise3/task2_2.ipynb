{
  "nbformat": 4,
  "nbformat_minor": 0,
  "metadata": {
    "kernelspec": {
      "display_name": "Python 3",
      "language": "python",
      "name": "python3"
    },
    "language_info": {
      "codemirror_mode": {
        "name": "ipython",
        "version": 3
      },
      "file_extension": ".py",
      "mimetype": "text/x-python",
      "name": "python",
      "nbconvert_exporter": "python",
      "pygments_lexer": "ipython3",
      "version": "3.7.5"
    },
    "colab": {
      "name": "task2_2.ipynb",
      "provenance": [],
      "include_colab_link": true
    }
  },
  "cells": [
    {
      "cell_type": "markdown",
      "metadata": {
        "id": "view-in-github",
        "colab_type": "text"
      },
      "source": [
        "<a href=\"https://colab.research.google.com/github/Gruppe3VDL/Gruppe3VDLws2019/blob/master/exercise3/task2_2.ipynb\" target=\"_parent\"><img src=\"https://colab.research.google.com/assets/colab-badge.svg\" alt=\"Open In Colab\"/></a>"
      ]
    },
    {
      "cell_type": "markdown",
      "metadata": {
        "id": "lzfJtW-AGiTB",
        "colab_type": "text"
      },
      "source": [
        "# Visualizing Convolutional Neural Networks\n",
        "\n",
        "Download a pretrained AlexNet model and plot the weights of the first convolutional layer"
      ]
    },
    {
      "cell_type": "code",
      "metadata": {
        "id": "XLsSEKKYHPZ5",
        "colab_type": "code",
        "colab": {}
      },
      "source": [
        "import torch.nn as nn\n",
        "import torchvision.models as models"
      ],
      "execution_count": 0,
      "outputs": []
    },
    {
      "cell_type": "code",
      "metadata": {
        "id": "2_kWw0S7GiTG",
        "colab_type": "code",
        "colab": {
          "base_uri": "https://localhost:8080/",
          "height": 51
        },
        "outputId": "31a1d6eb-8ca5-4c52-f8f1-1685228d3b71"
      },
      "source": [
        "# Download a pretrained AlexNet\n",
        "alexnet = models.alexnet(pretrained=True)"
      ],
      "execution_count": 2,
      "outputs": [
        {
          "output_type": "stream",
          "text": [
            "Downloading: \"https://download.pytorch.org/models/alexnet-owt-4df8aa71.pth\" to /root/.cache/torch/checkpoints/alexnet-owt-4df8aa71.pth\n",
            "100%|██████████| 233M/233M [00:04<00:00, 52.6MB/s]\n"
          ],
          "name": "stderr"
        }
      ]
    },
    {
      "cell_type": "code",
      "metadata": {
        "id": "z0VmdlSyHAbu",
        "colab_type": "code",
        "colab": {
          "base_uri": "https://localhost:8080/",
          "height": 34
        },
        "outputId": "731011a0-9405-450d-92c8-ef4f01634e29"
      },
      "source": [
        "# Extract weights of first convolutional layer\n",
        "w = None\n",
        "for m in alexnet.modules():\n",
        "    if isinstance(m, nn.Conv2d):\n",
        "        w = m.state_dict()['weight'].numpy()\n",
        "        break\n",
        "\n",
        "print(w.shape)"
      ],
      "execution_count": 17,
      "outputs": [
        {
          "output_type": "stream",
          "text": [
            "(64, 3, 11, 11)\n"
          ],
          "name": "stdout"
        }
      ]
    },
    {
      "cell_type": "code",
      "metadata": {
        "id": "VYo3i1E5ISW2",
        "colab_type": "code",
        "colab": {}
      },
      "source": [
        "# TODO: Visualise extracted weights"
      ],
      "execution_count": 0,
      "outputs": []
    }
  ]
}