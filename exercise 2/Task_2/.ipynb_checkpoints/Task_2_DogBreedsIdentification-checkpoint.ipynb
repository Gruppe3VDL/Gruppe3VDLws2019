{
 "cells": [
  {
   "cell_type": "markdown",
   "metadata": {},
   "source": [
    "__Complete all sub-tasks marked with ## TO DO! ## and submit the filled notebook on OLAT__ \\\n",
    "__Using a GPU is recommended here__"
   ]
  },
  {
   "cell_type": "markdown",
   "metadata": {},
   "source": [
    "### Transfer Learning ###\n",
    "Aim of this notebook is to implement the concept of transfer learning to train a bigger dataset. We try to compete on a well-known competiton on Kaggle known as Dog Breeds Identification. Read more about it here:\n",
    "\n",
    "https://www.kaggle.com/c/dog-breed-identification/overview\n",
    "\n"
   ]
  },
  {
   "cell_type": "markdown",
   "metadata": {},
   "source": [
    "To train a model on the Dog breeds dataset using transfer learning and submit your results to Kaggle.\n",
    "Note: Below notebook gives some tips to run the code in pytorch. "
   ]
  },
  {
   "cell_type": "code",
   "execution_count": 1,
   "metadata": {},
   "outputs": [],
   "source": [
    "%matplotlib inline\n",
    "%reload_ext autoreload\n",
    "%autoreload 2"
   ]
  },
  {
   "cell_type": "code",
   "execution_count": 2,
   "metadata": {},
   "outputs": [],
   "source": [
    "import torch\n",
    "import torch.nn as nn\n",
    "import torch.backends.cudnn as cudnn\n",
    "import matplotlib.pyplot as plt\n",
    "import pandas as pd\n",
    "import os\n",
    "import sys\n",
    "import shutil"
   ]
  },
  {
   "cell_type": "code",
   "execution_count": 3,
   "metadata": {},
   "outputs": [],
   "source": [
    "use_cuda = torch.cuda.is_available()"
   ]
  },
  {
   "cell_type": "code",
   "execution_count": 4,
   "metadata": {},
   "outputs": [],
   "source": [
    "from AlexNet import AlexNet\n",
    "from train_test import start_train_test"
   ]
  },
  {
   "cell_type": "code",
   "execution_count": 13,
   "metadata": {},
   "outputs": [],
   "source": [
    "####################################################################################################\n",
    "## TO DO! : Register on Kaggle With Your repective GroupName  (For example: WS19_VDL_GROUP_01)    ##\n",
    "####################################################################################################"
   ]
  },
  {
   "cell_type": "code",
   "execution_count": 8,
   "metadata": {},
   "outputs": [],
   "source": [
    "####################################################################################################\n",
    "## TO DO! : Download the Dog-Breeds dataset in folder \"data\"                                      ##\n",
    "## from the Kaggle competition link mentioned above                                               ##\n",
    "####################################################################################################"
   ]
  },
  {
   "cell_type": "code",
   "execution_count": 9,
   "metadata": {},
   "outputs": [],
   "source": [
    "####################################################################################################\n",
    "## TO DO! : Make your dataset to and dataloaders for the  test data                                ##\n",
    "####################################################################################################"
   ]
  },
  {
   "cell_type": "code",
   "execution_count": 10,
   "metadata": {},
   "outputs": [],
   "source": [
    "####################################################################################################\n",
    "## TO DO! : Split train data into 20% validation set and make dataloaders for train and val split ##\n",
    "####################################################################################################"
   ]
  },
  {
   "cell_type": "code",
   "execution_count": 11,
   "metadata": {},
   "outputs": [],
   "source": [
    "# HINT: \n",
    "# One can make their own custom dataset and dataloaders using the CSV file or\n",
    "# Convert the Dog-breed training dataset into Imagenet Format, where all images of one class are in a\n",
    "# folder named with class as in the below given format. Standard Pytorch Datasets and Dataloaders can then be applied\n",
    "# over them\n",
    "# Root\n",
    "# |\n",
    "# |---Class1 ___Img1.png\n",
    "# |          ___Img2.png\n",
    "# |\n",
    "# |---Class2 ___Img3.png\n",
    "# |          ___Img4.png\n",
    "# |....\n",
    "# |...."
   ]
  },
  {
   "cell_type": "markdown",
   "metadata": {},
   "source": [
    "__Train famous Alexnet model on Dog breeds dataset. It is not easy to train the alexnet model from \n",
    "scratch on the Dog breeds data itself. Curious minds can try for once to train Alexnet from scratch. We adopt Transfer Learning here. We \n",
    "obtain a pretrained Alexnet model trained on Imagenet and apply transfer learning to it to get better results.__"
   ]
  },
  {
   "cell_type": "markdown",
   "metadata": {},
   "source": [
    "## Transfer Learning"
   ]
  },
  {
   "cell_type": "code",
   "execution_count": null,
   "metadata": {},
   "outputs": [],
   "source": [
    "####################################################################################################\n",
    "## TO DO! :  Freeze the weigths of the pretrained alexnet model and change the last classification layer\n",
    "##from 1000 classes of Imagenet to 120 classes of Dog Breeds, only classification layer should be \n",
    "## unfreezed and trainable                                                                        ##\n",
    "####################################################################################################\n",
    "import torchvision.models as models\n",
    "pretrained_alexnet = models.alexnet(pretrained=True)\n",
    "\n",
    "\n",
    "\n",
    "# Below function will directly train your network with the given parameters to 5 epochs\n",
    "# You are also free to use function learned in task 1 to train your model here \n",
    "train_loss, test_loss = start_train_test(pretrained_alexnet, trainloader, testloader, criterion)"
   ]
  },
  {
   "cell_type": "markdown",
   "metadata": {},
   "source": [
    "## Making Kaggle Submission"
   ]
  },
  {
   "cell_type": "code",
   "execution_count": 29,
   "metadata": {},
   "outputs": [],
   "source": [
    "from transform import transform_testing\n",
    "import PIL.Image\n",
    "import torch.nn.functional as F\n",
    "import numpy as np"
   ]
  },
  {
   "cell_type": "code",
   "execution_count": 30,
   "metadata": {},
   "outputs": [],
   "source": [
    "### Not So optimal Code: This can take upto 2 minutes to run: You are free to make an optimal version :) ###\n",
    "# It iterates over all test images to compute the softmax probablities from the last layer of the network\n",
    "augment_image = transform_testing()\n",
    "test_data_root = 'data/dog_breeds/test/' \n",
    "test_image_list = os.listdir(test_data_root) # list of test files \n",
    "result = []\n",
    "for img_name in test_image_list:\n",
    "    img = PIL.Image.open(test_data_root + img_name)\n",
    "    img_tensor = augment_image(img)\n",
    "    with torch.no_grad():\n",
    "        output = pretrained_resnet(img_tensor.unsqueeze_(0).cuda())\n",
    "        probs = F.softmax(output, dim=1)\n",
    "    result.append(probs.cpu().numpy())\n",
    "all_predictions = np.concatenate(result)\n",
    "print(all_predictions.shape)"
   ]
  },
  {
   "cell_type": "code",
   "execution_count": 319,
   "metadata": {},
   "outputs": [],
   "source": [
    "df = pd.DataFrame(all_predictions)\n",
    "file_list = os.listdir('data/dog_data_imagenet/train') # list of classes to be provided here\n",
    "df.columns = sorted(file_list)\n",
    "\n",
    "# insert clean ids - without folder prefix and .jpg suffix - of images as first column\n",
    "test_data_root = 'data/dog_breeds/test/' # list of all test files here\n",
    "test_image_list = os.listdir(test_data_root)\n",
    "df.insert(0, \"id\", [e[:-4] for e in test_image_list])\n",
    "df.to_csv(f\"sub_1_alexnet.csv\", index=False)"
   ]
  },
  {
   "cell_type": "markdown",
   "metadata": {},
   "source": [
    "### TO DO!: ###\n",
    "Submit the created CSV file to Kaggle, with a score(cross entropy loss) not more than __2.0__\\\n",
    "Take a snapshot of your rank on Kaggle Public Leaderboard and include the image here ...\n",
    "For example :\n",
    "![title](snp2.png)"
   ]
  },
  {
   "cell_type": "markdown",
   "metadata": {},
   "source": [
    "## CHALLENGE  (optional)\n",
    "Compete against each other, Come up with creative ideas. Try beating the score of __0.3__. The group with minimum score gets a small prize at the time when the solutions are discussed. \n"
   ]
  },
  {
   "cell_type": "markdown",
   "metadata": {},
   "source": [
    "__Hints:__\n",
    "\n",
    "1. Instead of Alexnet use pretrained resnet 18 model for better accuracy\n",
    "2. Instead of a just adding the last classification layer, try adding two layers to get a better loss\n",
    "3. Train some more layers at the end of the network with a very very small learning rate\n",
    "4. Add Batch Normalizations or Dropout to the layers you have added, (If not present)\n",
    "5. Add more augmentation to your dataset, see tranform.py file and use auto autoaugment to apply more rigorous data augmentation techniques"
   ]
  }
 ],
 "metadata": {
  "kernelspec": {
   "display_name": "Python 3",
   "language": "python",
   "name": "python3"
  },
  "language_info": {
   "codemirror_mode": {
    "name": "ipython",
    "version": 3
   },
   "file_extension": ".py",
   "mimetype": "text/x-python",
   "name": "python",
   "nbconvert_exporter": "python",
   "pygments_lexer": "ipython3",
   "version": "3.6.9"
  }
 },
 "nbformat": 4,
 "nbformat_minor": 2
}
