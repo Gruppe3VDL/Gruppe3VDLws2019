{
 "cells": [
  {
   "cell_type": "code",
   "execution_count": 1,
   "metadata": {},
   "outputs": [],
   "source": [
    "from __future__ import print_function"
   ]
  },
  {
   "cell_type": "code",
   "execution_count": 2,
   "metadata": {},
   "outputs": [],
   "source": [
    "%matplotlib inline\n",
    "%reload_ext autoreload\n",
    "%autoreload 2"
   ]
  },
  {
   "cell_type": "code",
   "execution_count": 3,
   "metadata": {},
   "outputs": [
    {
     "name": "stderr",
     "output_type": "stream",
     "text": [
      "/home/saurabh/anaconda3/envs/py36torch/lib/python3.6/importlib/_bootstrap.py:219: RuntimeWarning: numpy.dtype size changed, may indicate binary incompatibility. Expected 96, got 88\n",
      "  return f(*args, **kwds)\n"
     ]
    }
   ],
   "source": [
    "import torch\n",
    "import torch.nn as nn\n",
    "import torch.backends.cudnn as cudnn\n",
    "import matplotlib.pyplot as plt\n",
    "import pandas as pd\n",
    "import os\n",
    "import sys\n",
    "import shutil"
   ]
  },
  {
   "cell_type": "code",
   "execution_count": 4,
   "metadata": {},
   "outputs": [],
   "source": [
    "use_cuda = torch.cuda.is_available()"
   ]
  },
  {
   "cell_type": "code",
   "execution_count": 5,
   "metadata": {},
   "outputs": [],
   "source": [
    "from dataset import dataset\n",
    "from AlexNet import AlexNet\n",
    "from AlexNet import AlexNet_imagenet\n",
    "from train_test import start_train_test"
   ]
  },
  {
   "cell_type": "markdown",
   "metadata": {},
   "source": [
    "Download the Dog-Breeds dataset in folder \"data\"\n"
   ]
  },
  {
   "cell_type": "code",
   "execution_count": 7,
   "metadata": {},
   "outputs": [],
   "source": [
    "# Convert the Dog-breed training dataset into Imagenet Format, where all images of one class are in a folder named with class.\n",
    "# We can even directly load the data from CSV file, but this is done as to solve any standard Image classification task.\n",
    "# Root\n",
    "# |\n",
    "# |---Class1 ___Img1.png\n",
    "# |          ___Img2.png\n",
    "# |\n",
    "# |---Class2 ___Img3.png\n",
    "# |          ___Img4.png\n",
    "# |....\n",
    "# |....\n",
    "\n",
    "labels = pd.read_csv('data/dog_breeds/labels.csv')\n",
    "\n",
    "# Create a new root named `dog_data_imagenet` directory\n",
    "train_dir = 'data/dog_breeds/train/'\n",
    "train_sep_dir = 'data/dog_data_imagenet/'\n",
    "if not os.path.exists(train_sep_dir):\n",
    "    os.mkdir(train_sep_dir)\n",
    "\n",
    "for filename, class_name in labels.values:\n",
    "    # Create subdirectory with `class_name`\n",
    "    if not os.path.exists(train_sep_dir + class_name):\n",
    "        os.mkdir(train_sep_dir + class_name)\n",
    "    src_path = train_dir + filename + '.jpg'\n",
    "    dst_path = train_sep_dir + class_name + '/' + filename + '.jpg'\n",
    "    try:\n",
    "        shutil.copy(src_path, dst_path)\n",
    "    except IOError as e:\n",
    "        print('Unable to copy file {} to {}'\n",
    "              .format(src_path, dst_path))\n",
    "    except:\n",
    "        print('When try copy file {} to {}, unexpected error: {}'\n",
    "              .format(src_path, dst_path, sys.exc_info()))"
   ]
  },
  {
   "cell_type": "code",
   "execution_count": 6,
   "metadata": {},
   "outputs": [
    {
     "name": "stdout",
     "output_type": "stream",
     "text": [
      "| Preparing dataset...\n",
      "| Output classes: 120\n",
      "Input channels: 3\n"
     ]
    }
   ],
   "source": [
    "trainloader, testloader, outputs, inputs = dataset('dog-breeds')\n",
    "print ('Output classes: {}\\nInput channels: {}'.format(outputs, inputs))"
   ]
  },
  {
   "cell_type": "code",
   "execution_count": 8,
   "metadata": {},
   "outputs": [],
   "source": [
    "net = AlexNet_imagenet(num_classes = outputs,inputs=inputs)\n",
    "file_name = 'alexnet-'"
   ]
  },
  {
   "cell_type": "code",
   "execution_count": null,
   "metadata": {},
   "outputs": [],
   "source": []
  },
  {
   "cell_type": "code",
   "execution_count": 9,
   "metadata": {},
   "outputs": [],
   "source": [
    "if use_cuda:\n",
    "    net.cuda()\n",
    "    net = torch.nn.DataParallel(net, device_ids=range(torch.cuda.device_count()))\n",
    "    cudnn.benchmark = True"
   ]
  },
  {
   "cell_type": "code",
   "execution_count": 10,
   "metadata": {},
   "outputs": [
    {
     "data": {
      "text/plain": [
       "CrossEntropyLoss()"
      ]
     },
     "execution_count": 10,
     "metadata": {},
     "output_type": "execute_result"
    }
   ],
   "source": [
    "criterion = nn.CrossEntropyLoss()\n",
    "criterion.cuda()"
   ]
  },
  {
   "cell_type": "code",
   "execution_count": 14,
   "metadata": {},
   "outputs": [
    {
     "name": "stdout",
     "output_type": "stream",
     "text": [
      "\n",
      "=> Training Epoch #1, LR=0.0010\n",
      "| Epoch [  1/ 10] \t\tLoss: 4.6909 Acc@1: 1.000%\n",
      "\n",
      "| Validation Epoch #1\t\t\tLoss: 4.7926 Acc@1: 1.00%\n",
      "* Test results : Acc@1 = 1.00%\n",
      "| Elapsed time : 0:00:09\n",
      "\n",
      "=> Training Epoch #2, LR=0.0010\n",
      "| Epoch [  2/ 10] \t\tLoss: 4.6723 Acc@1: 1.000%\n",
      "\n",
      "| Validation Epoch #2\t\t\tLoss: 4.7818 Acc@1: 1.00%\n",
      "* Test results : Acc@1 = 1.00%\n",
      "| Elapsed time : 0:00:19\n",
      "\n",
      "=> Training Epoch #3, LR=0.0010\n",
      "| Epoch [  3/ 10] \t\tLoss: 4.8059 Acc@1: 1.000%\n",
      "\n",
      "| Validation Epoch #3\t\t\tLoss: 4.8003 Acc@1: 1.00%\n",
      "* Test results : Acc@1 = 1.00%\n",
      "| Elapsed time : 0:00:29\n",
      "\n",
      "=> Training Epoch #4, LR=0.0010\n",
      "| Epoch [  4/ 10] \t\tLoss: 4.7347 Acc@1: 1.000%\n",
      "\n",
      "| Validation Epoch #4\t\t\tLoss: 4.8182 Acc@1: 1.00%\n",
      "* Test results : Acc@1 = 1.00%\n",
      "| Elapsed time : 0:00:39\n",
      "\n",
      "=> Training Epoch #5, LR=0.0010\n",
      "| Epoch [  5/ 10] \t\tLoss: 4.7545 Acc@1: 1.000%\n",
      "\n",
      "| Validation Epoch #5\t\t\tLoss: 4.7916 Acc@1: 1.00%\n",
      "* Test results : Acc@1 = 1.00%\n",
      "| Elapsed time : 0:00:49\n",
      "\n",
      "=> Training Epoch #6, LR=0.0010\n",
      "| Epoch [  6/ 10] \t\tLoss: 4.7640 Acc@1: 1.000%\n",
      "\n",
      "| Validation Epoch #6\t\t\tLoss: 4.9781 Acc@1: 1.00%\n",
      "* Test results : Acc@1 = 1.00%\n",
      "| Elapsed time : 0:00:59\n",
      "\n",
      "=> Training Epoch #7, LR=0.0010\n",
      "| Epoch [  7/ 10] \t\tLoss: 4.7201 Acc@1: 1.000%\n",
      "\n",
      "| Validation Epoch #7\t\t\tLoss: 4.7863 Acc@1: 1.00%\n",
      "* Test results : Acc@1 = 1.00%\n",
      "| Elapsed time : 0:01:09\n",
      "\n",
      "=> Training Epoch #8, LR=0.0010\n",
      "| Epoch [  8/ 10] \t\tLoss: 4.6779 Acc@1: 1.000%\n",
      "\n",
      "| Validation Epoch #8\t\t\tLoss: 4.7261 Acc@1: 1.00%\n",
      "* Test results : Acc@1 = 1.00%\n",
      "| Elapsed time : 0:01:19\n",
      "\n",
      "=> Training Epoch #9, LR=0.0010\n",
      "| Epoch [  9/ 10] \t\tLoss: 4.7409 Acc@1: 1.000%\n",
      "\n",
      "| Validation Epoch #9\t\t\tLoss: 4.7699 Acc@1: 1.00%\n",
      "* Test results : Acc@1 = 1.00%\n",
      "| Elapsed time : 0:01:29\n",
      "\n",
      "=> Training Epoch #10, LR=0.0010\n",
      "| Epoch [ 10/ 10] \t\tLoss: 4.7034 Acc@1: 1.000%\n",
      "\n",
      "| Validation Epoch #10\t\t\tLoss: 4.7909 Acc@1: 1.00%\n",
      "* Test results : Acc@1 = 1.00%\n",
      "| Elapsed time : 0:01:39\n"
     ]
    }
   ],
   "source": [
    "train_loss, test_loss = start_train_test(net, trainloader, testloader, criterion)"
   ]
  },
  {
   "cell_type": "markdown",
   "metadata": {},
   "source": [
    "### Here you can plot you loss graph"
   ]
  },
  {
   "cell_type": "code",
   "execution_count": 12,
   "metadata": {},
   "outputs": [
    {
     "data": {
      "image/png": "[encoded data removed]",
      "text/plain": [
       "<Figure size 432x288 with 1 Axes>"
      ]
     },
     "metadata": {},
     "output_type": "display_data"
    }
   ],
   "source": [
    "plt.plot(train_loss)\n",
    "plt.ylabel('Train Loss')\n",
    "plt.show()"
   ]
  },
  {
   "cell_type": "code",
   "execution_count": 13,
   "metadata": {},
   "outputs": [
    {
     "data": {
      "image/png": "[encoded data removed]",
      "text/plain": [
       "<Figure size 432x288 with 1 Axes>"
      ]
     },
     "metadata": {},
     "output_type": "display_data"
    }
   ],
   "source": [
    "plt.plot(test_loss)\n",
    "plt.ylabel('Test Loss')\n",
    "plt.show()"
   ]
  },
  {
   "cell_type": "markdown",
   "metadata": {},
   "source": [
    "We can not generalize well on training as well as validation set, this is mostly the case of underfitting. The Dog breeds dataset is too small to train all parameters of Alexnet.\n",
    "\n",
    "So we adopt __Transfer Learning__"
   ]
  },
  {
   "cell_type": "markdown",
   "metadata": {},
   "source": [
    "## Transfer Learning"
   ]
  },
  {
   "cell_type": "code",
   "execution_count": 24,
   "metadata": {},
   "outputs": [],
   "source": [
    "import torchvision.models as models"
   ]
  },
  {
   "cell_type": "code",
   "execution_count": 25,
   "metadata": {},
   "outputs": [],
   "source": [
    "pretrained_alexnet = models.alexnet(pretrained=True)"
   ]
  },
  {
   "cell_type": "code",
   "execution_count": 26,
   "metadata": {},
   "outputs": [],
   "source": [
    "for param in pretrained_alexnet.parameters():\n",
    "    param.requires_grad = False"
   ]
  },
  {
   "cell_type": "code",
   "execution_count": 27,
   "metadata": {},
   "outputs": [
    {
     "name": "stdout",
     "output_type": "stream",
     "text": [
      "AlexNet(\n",
      "  (features): Sequential(\n",
      "    (0): Conv2d(3, 64, kernel_size=(11, 11), stride=(4, 4), padding=(2, 2))\n",
      "    (1): ReLU(inplace)\n",
      "    (2): MaxPool2d(kernel_size=3, stride=2, padding=0, dilation=1, ceil_mode=False)\n",
      "    (3): Conv2d(64, 192, kernel_size=(5, 5), stride=(1, 1), padding=(2, 2))\n",
      "    (4): ReLU(inplace)\n",
      "    (5): MaxPool2d(kernel_size=3, stride=2, padding=0, dilation=1, ceil_mode=False)\n",
      "    (6): Conv2d(192, 384, kernel_size=(3, 3), stride=(1, 1), padding=(1, 1))\n",
      "    (7): ReLU(inplace)\n",
      "    (8): Conv2d(384, 256, kernel_size=(3, 3), stride=(1, 1), padding=(1, 1))\n",
      "    (9): ReLU(inplace)\n",
      "    (10): Conv2d(256, 256, kernel_size=(3, 3), stride=(1, 1), padding=(1, 1))\n",
      "    (11): ReLU(inplace)\n",
      "    (12): MaxPool2d(kernel_size=3, stride=2, padding=0, dilation=1, ceil_mode=False)\n",
      "  )\n",
      "  (classifier): Sequential(\n",
      "    (0): Dropout(p=0.5)\n",
      "    (1): Linear(in_features=9216, out_features=4096, bias=True)\n",
      "    (2): ReLU(inplace)\n",
      "    (3): Dropout(p=0.5)\n",
      "    (4): Linear(in_features=4096, out_features=4096, bias=True)\n",
      "    (5): ReLU(inplace)\n",
      "    (6): Linear(in_features=4096, out_features=1000, bias=True)\n",
      "  )\n",
      ")\n"
     ]
    }
   ],
   "source": [
    "print(pretrained_alexnet)"
   ]
  },
  {
   "cell_type": "code",
   "execution_count": 28,
   "metadata": {},
   "outputs": [],
   "source": [
    "num_input_features = pretrained_alexnet.classifier[6].in_features"
   ]
  },
  {
   "cell_type": "code",
   "execution_count": 29,
   "metadata": {},
   "outputs": [],
   "source": [
    "pretrained_alexnet.classifier[6] = nn.Linear(num_input_features, outputs)"
   ]
  },
  {
   "cell_type": "code",
   "execution_count": 30,
   "metadata": {},
   "outputs": [
    {
     "data": {
      "text/plain": [
       "AlexNet(\n",
       "  (features): Sequential(\n",
       "    (0): Conv2d(3, 64, kernel_size=(11, 11), stride=(4, 4), padding=(2, 2))\n",
       "    (1): ReLU(inplace)\n",
       "    (2): MaxPool2d(kernel_size=3, stride=2, padding=0, dilation=1, ceil_mode=False)\n",
       "    (3): Conv2d(64, 192, kernel_size=(5, 5), stride=(1, 1), padding=(2, 2))\n",
       "    (4): ReLU(inplace)\n",
       "    (5): MaxPool2d(kernel_size=3, stride=2, padding=0, dilation=1, ceil_mode=False)\n",
       "    (6): Conv2d(192, 384, kernel_size=(3, 3), stride=(1, 1), padding=(1, 1))\n",
       "    (7): ReLU(inplace)\n",
       "    (8): Conv2d(384, 256, kernel_size=(3, 3), stride=(1, 1), padding=(1, 1))\n",
       "    (9): ReLU(inplace)\n",
       "    (10): Conv2d(256, 256, kernel_size=(3, 3), stride=(1, 1), padding=(1, 1))\n",
       "    (11): ReLU(inplace)\n",
       "    (12): MaxPool2d(kernel_size=3, stride=2, padding=0, dilation=1, ceil_mode=False)\n",
       "  )\n",
       "  (classifier): Sequential(\n",
       "    (0): Dropout(p=0.5)\n",
       "    (1): Linear(in_features=9216, out_features=4096, bias=True)\n",
       "    (2): ReLU(inplace)\n",
       "    (3): Dropout(p=0.5)\n",
       "    (4): Linear(in_features=4096, out_features=4096, bias=True)\n",
       "    (5): ReLU(inplace)\n",
       "    (6): Linear(in_features=4096, out_features=120, bias=True)\n",
       "  )\n",
       ")"
      ]
     },
     "execution_count": 30,
     "metadata": {},
     "output_type": "execute_result"
    }
   ],
   "source": [
    "pretrained_alexnet"
   ]
  },
  {
   "cell_type": "code",
   "execution_count": 31,
   "metadata": {},
   "outputs": [],
   "source": [
    "if use_cuda:\n",
    "    pretrained_alexnet.cuda()\n",
    "    pretrained_alexnet = torch.nn.DataParallel(pretrained_alexnet, device_ids=range(torch.cuda.device_count()))\n",
    "    cudnn.benchmark = True"
   ]
  },
  {
   "cell_type": "code",
   "execution_count": 33,
   "metadata": {},
   "outputs": [
    {
     "name": "stdout",
     "output_type": "stream",
     "text": [
      "\n",
      "=> Training Epoch #1, LR=0.0010\n",
      "| Epoch [  1/ 10] \t\tLoss: 1.3240 Acc@1: 64.000%\n",
      "\n",
      "| Validation Epoch #1\t\t\tLoss: 2.1138 Acc@1: 47.00%\n",
      "* Test results : Acc@1 = 50.00%\n",
      "| Elapsed time : 0:00:09\n",
      "\n",
      "=> Training Epoch #2, LR=0.0010\n",
      "| Epoch [  2/ 10] \t\tLoss: 1.1867 Acc@1: 64.000%\n",
      "\n",
      "| Validation Epoch #2\t\t\tLoss: 2.2317 Acc@1: 48.00%\n",
      "* Test results : Acc@1 = 50.00%\n",
      "| Elapsed time : 0:00:18\n",
      "\n",
      "=> Training Epoch #3, LR=0.0010\n",
      "| Epoch [  3/ 10] \t\tLoss: 1.2706 Acc@1: 64.000%\n",
      "\n",
      "| Validation Epoch #3\t\t\tLoss: 2.2497 Acc@1: 48.00%\n",
      "* Test results : Acc@1 = 50.00%\n",
      "| Elapsed time : 0:00:27\n",
      "\n",
      "=> Training Epoch #4, LR=0.0010\n",
      "| Epoch [  4/ 10] \t\tLoss: 0.8878 Acc@1: 66.000%\n",
      "\n",
      "| Validation Epoch #4\t\t\tLoss: 2.0623 Acc@1: 49.00%\n",
      "* Test results : Acc@1 = 50.00%\n",
      "| Elapsed time : 0:00:37\n",
      "\n",
      "=> Training Epoch #5, LR=0.0010\n",
      "| Epoch [  5/ 10] \t\tLoss: 0.8192 Acc@1: 66.000%\n",
      "\n",
      "| Validation Epoch #5\t\t\tLoss: 2.2505 Acc@1: 49.00%\n",
      "* Test results : Acc@1 = 50.00%\n",
      "| Elapsed time : 0:00:46\n",
      "\n",
      "=> Training Epoch #6, LR=0.0010\n",
      "| Epoch [  6/ 10] \t\tLoss: 1.4704 Acc@1: 66.000%\n",
      "\n",
      "| Validation Epoch #6\t\t\tLoss: 2.3483 Acc@1: 49.00%\n",
      "* Test results : Acc@1 = 50.00%\n",
      "| Elapsed time : 0:00:56\n",
      "\n",
      "=> Training Epoch #7, LR=0.0010\n",
      "| Epoch [  7/ 10] \t\tLoss: 1.4885 Acc@1: 67.000%\n",
      "\n",
      "| Validation Epoch #7\t\t\tLoss: 2.2385 Acc@1: 48.00%\n",
      "* Test results : Acc@1 = 50.00%\n",
      "| Elapsed time : 0:01:05\n",
      "\n",
      "=> Training Epoch #8, LR=0.0010\n",
      "| Epoch [  8/ 10] \t\tLoss: 1.2173 Acc@1: 66.000%\n",
      "\n",
      "| Validation Epoch #8\t\t\tLoss: 2.3073 Acc@1: 47.00%\n",
      "* Test results : Acc@1 = 50.00%\n",
      "| Elapsed time : 0:01:15\n",
      "\n",
      "=> Training Epoch #9, LR=0.0010\n",
      "| Epoch [  9/ 10] \t\tLoss: 0.6428 Acc@1: 67.000%\n",
      "\n",
      "| Validation Epoch #9\t\t\tLoss: 2.3370 Acc@1: 47.00%\n",
      "* Test results : Acc@1 = 50.00%\n",
      "| Elapsed time : 0:01:24\n",
      "\n",
      "=> Training Epoch #10, LR=0.0010\n",
      "| Epoch [ 10/ 10] \t\tLoss: 1.5322 Acc@1: 67.000%\n",
      "\n",
      "| Validation Epoch #10\t\t\tLoss: 2.1164 Acc@1: 48.00%\n",
      "* Test results : Acc@1 = 50.00%\n",
      "| Elapsed time : 0:01:34\n"
     ]
    }
   ],
   "source": [
    "train_loss, test_loss = start_train_test(pretrained_alexnet, trainloader, testloader, criterion)"
   ]
  },
  {
   "cell_type": "markdown",
   "metadata": {},
   "source": [
    "## Getting Predictions on test set from trained model"
   ]
  },
  {
   "cell_type": "code",
   "execution_count": 296,
   "metadata": {},
   "outputs": [],
   "source": [
    "from transform import transform_testing\n",
    "import PIL.Image\n",
    "import numpy as np\n",
    "import torch.nn.functional as F"
   ]
  },
  {
   "cell_type": "code",
   "execution_count": 297,
   "metadata": {},
   "outputs": [
    {
     "name": "stdout",
     "output_type": "stream",
     "text": [
      "10357\n"
     ]
    }
   ],
   "source": [
    "test_data_root = 'data/dog_breeds_dataset/test/'\n",
    "test_image_list = os.listdir(test_data_root)\n",
    "#print(len(test_image_list))\n",
    "augment_image = transform_testing()"
   ]
  },
  {
   "cell_type": "code",
   "execution_count": 303,
   "metadata": {},
   "outputs": [
    {
     "name": "stdout",
     "output_type": "stream",
     "text": [
      "1.0000001\n"
     ]
    }
   ],
   "source": [
    "img = PIL.Image.open(test_data_root + test_image_list[0])\n",
    "img_tensor = augment_image(img)\n",
    "with torch.no_grad():\n",
    "    output = pretrained_alexnet(img_tensor.unsqueeze_(0).cuda())\n",
    "probs = F.softmax(output, dim=1)\n",
    "print(np.sum(probs.cpu().numpy()))"
   ]
  },
  {
   "cell_type": "code",
   "execution_count": 304,
   "metadata": {},
   "outputs": [],
   "source": [
    "result = []\n",
    "for img_name in test_image_list:\n",
    "    img = PIL.Image.open(test_data_root + img_name)\n",
    "    img_tensor = augment_image(img)\n",
    "    with torch.no_grad():\n",
    "        output = pretrained_alexnet(img_tensor.unsqueeze_(0).cuda())\n",
    "        probs = F.softmax(output, dim=1)\n",
    "    result.append(probs)"
   ]
  },
  {
   "cell_type": "code",
   "execution_count": 305,
   "metadata": {},
   "outputs": [
    {
     "name": "stdout",
     "output_type": "stream",
     "text": [
      "(10357, 120)\n"
     ]
    }
   ],
   "source": [
    "all_predictions = np.concatenate(result)\n",
    "print(all_predictions.shape)"
   ]
  },
  {
   "cell_type": "markdown",
   "metadata": {},
   "source": [
    "### Creating csv for Kaggle submission"
   ]
  },
  {
   "cell_type": "code",
   "execution_count": 319,
   "metadata": {},
   "outputs": [],
   "source": [
    "df = pd.DataFrame(all_predictions)\n",
    "file_list = os.listdir('data/dog_breeds_dataset/train')\n",
    "df.columns = sorted(file_list)\n"
   ]
  },
  {
   "cell_type": "code",
   "execution_count": 320,
   "metadata": {},
   "outputs": [],
   "source": [
    "# insert clean ids - without folder prefix and .jpg suffix - of images as first column\n",
    "df.insert(0, \"id\", [e[:-4] for e in test_image_list])"
   ]
  },
  {
   "cell_type": "code",
   "execution_count": 321,
   "metadata": {},
   "outputs": [],
   "source": [
    "df.to_csv(f\"sub_1_alexnet.csv\", index=False)"
   ]
  },
  {
   "cell_type": "markdown",
   "metadata": {},
   "source": [
    "### Helpful Tricks to increase performance\n",
    "__1. The very first trick in case of computer vision is to analyze the data and results visually__"
   ]
  },
  {
   "cell_type": "code",
   "execution_count": null,
   "metadata": {},
   "outputs": [],
   "source": []
  }
 ],
 "metadata": {
  "kernelspec": {
   "display_name": "Python 3",
   "language": "python",
   "name": "python3"
  },
  "language_info": {
   "codemirror_mode": {
    "name": "ipython",
    "version": 3
   },
   "file_extension": ".py",
   "mimetype": "text/x-python",
   "name": "python",
   "nbconvert_exporter": "python",
   "pygments_lexer": "ipython3",
   "version": "3.6.9"
  }
 },
 "nbformat": 4,
 "nbformat_minor": 2
}
